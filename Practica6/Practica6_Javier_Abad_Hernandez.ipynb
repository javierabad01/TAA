{
 "cells": [
  {
   "cell_type": "code",
   "execution_count": 1,
   "id": "ffb9b9d5",
   "metadata": {},
   "outputs": [],
   "source": [
    "import numpy as np\n",
    "import pandas as pd\n",
    "from sklearn.neighbors import KNeighborsClassifier\n",
    "from sklearn.datasets import load_digits\n",
    "from sklearn.preprocessing import MinMaxScaler\n",
    "from sklearn.model_selection import train_test_split\n",
    "from scipy.stats import mode\n",
    "import matplotlib.pyplot as plt"
   ]
  },
  {
   "cell_type": "markdown",
   "id": "69703467",
   "metadata": {},
   "source": [
    "# PARTE 1:\n",
    "Variando el k entre 1 y 15, ejecutar el algoritmo y obtener su tasa de aciertos para el conjunto de\n",
    "test. Representar este valor en un diagrama de barras, calcular el k óptimo y dar su correspondiente\n",
    "tasa de aciertos."
   ]
  },
  {
   "cell_type": "code",
   "execution_count": 2,
   "id": "630d40d0",
   "metadata": {
    "scrolled": true
   },
   "outputs": [
    {
     "data": {
      "text/plain": [
       "{'data': array([[ 0.,  0.,  5., ...,  0.,  0.,  0.],\n",
       "        [ 0.,  0.,  0., ..., 10.,  0.,  0.],\n",
       "        [ 0.,  0.,  0., ..., 16.,  9.,  0.],\n",
       "        ...,\n",
       "        [ 0.,  0.,  1., ...,  6.,  0.,  0.],\n",
       "        [ 0.,  0.,  2., ..., 12.,  0.,  0.],\n",
       "        [ 0.,  0., 10., ..., 12.,  1.,  0.]]),\n",
       " 'target': array([0, 1, 2, ..., 8, 9, 8]),\n",
       " 'frame': None,\n",
       " 'feature_names': ['pixel_0_0',\n",
       "  'pixel_0_1',\n",
       "  'pixel_0_2',\n",
       "  'pixel_0_3',\n",
       "  'pixel_0_4',\n",
       "  'pixel_0_5',\n",
       "  'pixel_0_6',\n",
       "  'pixel_0_7',\n",
       "  'pixel_1_0',\n",
       "  'pixel_1_1',\n",
       "  'pixel_1_2',\n",
       "  'pixel_1_3',\n",
       "  'pixel_1_4',\n",
       "  'pixel_1_5',\n",
       "  'pixel_1_6',\n",
       "  'pixel_1_7',\n",
       "  'pixel_2_0',\n",
       "  'pixel_2_1',\n",
       "  'pixel_2_2',\n",
       "  'pixel_2_3',\n",
       "  'pixel_2_4',\n",
       "  'pixel_2_5',\n",
       "  'pixel_2_6',\n",
       "  'pixel_2_7',\n",
       "  'pixel_3_0',\n",
       "  'pixel_3_1',\n",
       "  'pixel_3_2',\n",
       "  'pixel_3_3',\n",
       "  'pixel_3_4',\n",
       "  'pixel_3_5',\n",
       "  'pixel_3_6',\n",
       "  'pixel_3_7',\n",
       "  'pixel_4_0',\n",
       "  'pixel_4_1',\n",
       "  'pixel_4_2',\n",
       "  'pixel_4_3',\n",
       "  'pixel_4_4',\n",
       "  'pixel_4_5',\n",
       "  'pixel_4_6',\n",
       "  'pixel_4_7',\n",
       "  'pixel_5_0',\n",
       "  'pixel_5_1',\n",
       "  'pixel_5_2',\n",
       "  'pixel_5_3',\n",
       "  'pixel_5_4',\n",
       "  'pixel_5_5',\n",
       "  'pixel_5_6',\n",
       "  'pixel_5_7',\n",
       "  'pixel_6_0',\n",
       "  'pixel_6_1',\n",
       "  'pixel_6_2',\n",
       "  'pixel_6_3',\n",
       "  'pixel_6_4',\n",
       "  'pixel_6_5',\n",
       "  'pixel_6_6',\n",
       "  'pixel_6_7',\n",
       "  'pixel_7_0',\n",
       "  'pixel_7_1',\n",
       "  'pixel_7_2',\n",
       "  'pixel_7_3',\n",
       "  'pixel_7_4',\n",
       "  'pixel_7_5',\n",
       "  'pixel_7_6',\n",
       "  'pixel_7_7'],\n",
       " 'target_names': array([0, 1, 2, 3, 4, 5, 6, 7, 8, 9]),\n",
       " 'images': array([[[ 0.,  0.,  5., ...,  1.,  0.,  0.],\n",
       "         [ 0.,  0., 13., ..., 15.,  5.,  0.],\n",
       "         [ 0.,  3., 15., ..., 11.,  8.,  0.],\n",
       "         ...,\n",
       "         [ 0.,  4., 11., ..., 12.,  7.,  0.],\n",
       "         [ 0.,  2., 14., ..., 12.,  0.,  0.],\n",
       "         [ 0.,  0.,  6., ...,  0.,  0.,  0.]],\n",
       " \n",
       "        [[ 0.,  0.,  0., ...,  5.,  0.,  0.],\n",
       "         [ 0.,  0.,  0., ...,  9.,  0.,  0.],\n",
       "         [ 0.,  0.,  3., ...,  6.,  0.,  0.],\n",
       "         ...,\n",
       "         [ 0.,  0.,  1., ...,  6.,  0.,  0.],\n",
       "         [ 0.,  0.,  1., ...,  6.,  0.,  0.],\n",
       "         [ 0.,  0.,  0., ..., 10.,  0.,  0.]],\n",
       " \n",
       "        [[ 0.,  0.,  0., ..., 12.,  0.,  0.],\n",
       "         [ 0.,  0.,  3., ..., 14.,  0.,  0.],\n",
       "         [ 0.,  0.,  8., ..., 16.,  0.,  0.],\n",
       "         ...,\n",
       "         [ 0.,  9., 16., ...,  0.,  0.,  0.],\n",
       "         [ 0.,  3., 13., ..., 11.,  5.,  0.],\n",
       "         [ 0.,  0.,  0., ..., 16.,  9.,  0.]],\n",
       " \n",
       "        ...,\n",
       " \n",
       "        [[ 0.,  0.,  1., ...,  1.,  0.,  0.],\n",
       "         [ 0.,  0., 13., ...,  2.,  1.,  0.],\n",
       "         [ 0.,  0., 16., ..., 16.,  5.,  0.],\n",
       "         ...,\n",
       "         [ 0.,  0., 16., ..., 15.,  0.,  0.],\n",
       "         [ 0.,  0., 15., ..., 16.,  0.,  0.],\n",
       "         [ 0.,  0.,  2., ...,  6.,  0.,  0.]],\n",
       " \n",
       "        [[ 0.,  0.,  2., ...,  0.,  0.,  0.],\n",
       "         [ 0.,  0., 14., ..., 15.,  1.,  0.],\n",
       "         [ 0.,  4., 16., ..., 16.,  7.,  0.],\n",
       "         ...,\n",
       "         [ 0.,  0.,  0., ..., 16.,  2.,  0.],\n",
       "         [ 0.,  0.,  4., ..., 16.,  2.,  0.],\n",
       "         [ 0.,  0.,  5., ..., 12.,  0.,  0.]],\n",
       " \n",
       "        [[ 0.,  0., 10., ...,  1.,  0.,  0.],\n",
       "         [ 0.,  2., 16., ...,  1.,  0.,  0.],\n",
       "         [ 0.,  0., 15., ..., 15.,  0.,  0.],\n",
       "         ...,\n",
       "         [ 0.,  4., 16., ..., 16.,  6.,  0.],\n",
       "         [ 0.,  8., 16., ..., 16.,  8.,  0.],\n",
       "         [ 0.,  1.,  8., ..., 12.,  1.,  0.]]]),\n",
       " 'DESCR': \".. _digits_dataset:\\n\\nOptical recognition of handwritten digits dataset\\n--------------------------------------------------\\n\\n**Data Set Characteristics:**\\n\\n    :Number of Instances: 1797\\n    :Number of Attributes: 64\\n    :Attribute Information: 8x8 image of integer pixels in the range 0..16.\\n    :Missing Attribute Values: None\\n    :Creator: E. Alpaydin (alpaydin '@' boun.edu.tr)\\n    :Date: July; 1998\\n\\nThis is a copy of the test set of the UCI ML hand-written digits datasets\\nhttps://archive.ics.uci.edu/ml/datasets/Optical+Recognition+of+Handwritten+Digits\\n\\nThe data set contains images of hand-written digits: 10 classes where\\neach class refers to a digit.\\n\\nPreprocessing programs made available by NIST were used to extract\\nnormalized bitmaps of handwritten digits from a preprinted form. From a\\ntotal of 43 people, 30 contributed to the training set and different 13\\nto the test set. 32x32 bitmaps are divided into nonoverlapping blocks of\\n4x4 and the number of on pixels are counted in each block. This generates\\nan input matrix of 8x8 where each element is an integer in the range\\n0..16. This reduces dimensionality and gives invariance to small\\ndistortions.\\n\\nFor info on NIST preprocessing routines, see M. D. Garris, J. L. Blue, G.\\nT. Candela, D. L. Dimmick, J. Geist, P. J. Grother, S. A. Janet, and C.\\nL. Wilson, NIST Form-Based Handprint Recognition System, NISTIR 5469,\\n1994.\\n\\n.. topic:: References\\n\\n  - C. Kaynak (1995) Methods of Combining Multiple Classifiers and Their\\n    Applications to Handwritten Digit Recognition, MSc Thesis, Institute of\\n    Graduate Studies in Science and Engineering, Bogazici University.\\n  - E. Alpaydin, C. Kaynak (1998) Cascading Classifiers, Kybernetika.\\n  - Ken Tang and Ponnuthurai N. Suganthan and Xi Yao and A. Kai Qin.\\n    Linear dimensionalityreduction using relevance weighted LDA. School of\\n    Electrical and Electronic Engineering Nanyang Technological University.\\n    2005.\\n  - Claudio Gentile. A New Approximate Maximal Margin Classification\\n    Algorithm. NIPS. 2000.\\n\"}"
      ]
     },
     "execution_count": 2,
     "metadata": {},
     "output_type": "execute_result"
    }
   ],
   "source": [
    "digitos = load_digits()\n",
    "digitos"
   ]
  },
  {
   "cell_type": "code",
   "execution_count": 3,
   "id": "93981f7e",
   "metadata": {},
   "outputs": [
    {
     "data": {
      "text/plain": [
       "64"
      ]
     },
     "execution_count": 3,
     "metadata": {},
     "output_type": "execute_result"
    }
   ],
   "source": [
    "len(digitos.feature_names)"
   ]
  },
  {
   "cell_type": "markdown",
   "id": "03751a99",
   "metadata": {},
   "source": [
    "<b>La primera línea del código </b> define el DataFrame utilizando la función pd.DataFrame(), donde columns=digitos.feature_names indica que los nombres de columna del DataFrame serán los nombres de las características de los dígitos. data=digitos.data indica que los datos de los dígitos se utilizarán para llenar las filas del DataFrame.\n",
    "\n",
    "<b>La segunda línea del código </b> inserta una nueva columna en el DataFrame llamada 'digito' en la última posición (ubicada en el índice len(digitos.feature_names)). El valor de cada celda en esta columna corresponde a la clase o etiqueta asociada con cada imagen de dígito en el conjunto de datos. El valor de la etiqueta se toma de digitos.target."
   ]
  },
  {
   "cell_type": "code",
   "execution_count": 18,
   "id": "92fdd3de",
   "metadata": {},
   "outputs": [],
   "source": [
    "df = pd.DataFrame(columns=digitos.feature_names, data=digitos.data)\n",
    "df.insert(loc=len(digitos.feature_names), column='digito', value=digitos.target)\n"
   ]
  },
  {
   "cell_type": "code",
   "execution_count": 19,
   "id": "e1a5759f",
   "metadata": {},
   "outputs": [
    {
     "data": {
      "text/html": [
       "<div>\n",
       "<style scoped>\n",
       "    .dataframe tbody tr th:only-of-type {\n",
       "        vertical-align: middle;\n",
       "    }\n",
       "\n",
       "    .dataframe tbody tr th {\n",
       "        vertical-align: top;\n",
       "    }\n",
       "\n",
       "    .dataframe thead th {\n",
       "        text-align: right;\n",
       "    }\n",
       "</style>\n",
       "<table border=\"1\" class=\"dataframe\">\n",
       "  <thead>\n",
       "    <tr style=\"text-align: right;\">\n",
       "      <th></th>\n",
       "      <th>pixel_0_0</th>\n",
       "      <th>pixel_0_1</th>\n",
       "      <th>pixel_0_2</th>\n",
       "      <th>pixel_0_3</th>\n",
       "      <th>pixel_0_4</th>\n",
       "      <th>pixel_0_5</th>\n",
       "      <th>pixel_0_6</th>\n",
       "      <th>pixel_0_7</th>\n",
       "      <th>pixel_1_0</th>\n",
       "      <th>pixel_1_1</th>\n",
       "      <th>...</th>\n",
       "      <th>pixel_6_7</th>\n",
       "      <th>pixel_7_0</th>\n",
       "      <th>pixel_7_1</th>\n",
       "      <th>pixel_7_2</th>\n",
       "      <th>pixel_7_3</th>\n",
       "      <th>pixel_7_4</th>\n",
       "      <th>pixel_7_5</th>\n",
       "      <th>pixel_7_6</th>\n",
       "      <th>pixel_7_7</th>\n",
       "      <th>digito</th>\n",
       "    </tr>\n",
       "  </thead>\n",
       "  <tbody>\n",
       "    <tr>\n",
       "      <th>0</th>\n",
       "      <td>0.0</td>\n",
       "      <td>0.0</td>\n",
       "      <td>5.0</td>\n",
       "      <td>13.0</td>\n",
       "      <td>9.0</td>\n",
       "      <td>1.0</td>\n",
       "      <td>0.0</td>\n",
       "      <td>0.0</td>\n",
       "      <td>0.0</td>\n",
       "      <td>0.0</td>\n",
       "      <td>...</td>\n",
       "      <td>0.0</td>\n",
       "      <td>0.0</td>\n",
       "      <td>0.0</td>\n",
       "      <td>6.0</td>\n",
       "      <td>13.0</td>\n",
       "      <td>10.0</td>\n",
       "      <td>0.0</td>\n",
       "      <td>0.0</td>\n",
       "      <td>0.0</td>\n",
       "      <td>0</td>\n",
       "    </tr>\n",
       "    <tr>\n",
       "      <th>1</th>\n",
       "      <td>0.0</td>\n",
       "      <td>0.0</td>\n",
       "      <td>0.0</td>\n",
       "      <td>12.0</td>\n",
       "      <td>13.0</td>\n",
       "      <td>5.0</td>\n",
       "      <td>0.0</td>\n",
       "      <td>0.0</td>\n",
       "      <td>0.0</td>\n",
       "      <td>0.0</td>\n",
       "      <td>...</td>\n",
       "      <td>0.0</td>\n",
       "      <td>0.0</td>\n",
       "      <td>0.0</td>\n",
       "      <td>0.0</td>\n",
       "      <td>11.0</td>\n",
       "      <td>16.0</td>\n",
       "      <td>10.0</td>\n",
       "      <td>0.0</td>\n",
       "      <td>0.0</td>\n",
       "      <td>1</td>\n",
       "    </tr>\n",
       "    <tr>\n",
       "      <th>2</th>\n",
       "      <td>0.0</td>\n",
       "      <td>0.0</td>\n",
       "      <td>0.0</td>\n",
       "      <td>4.0</td>\n",
       "      <td>15.0</td>\n",
       "      <td>12.0</td>\n",
       "      <td>0.0</td>\n",
       "      <td>0.0</td>\n",
       "      <td>0.0</td>\n",
       "      <td>0.0</td>\n",
       "      <td>...</td>\n",
       "      <td>0.0</td>\n",
       "      <td>0.0</td>\n",
       "      <td>0.0</td>\n",
       "      <td>0.0</td>\n",
       "      <td>3.0</td>\n",
       "      <td>11.0</td>\n",
       "      <td>16.0</td>\n",
       "      <td>9.0</td>\n",
       "      <td>0.0</td>\n",
       "      <td>2</td>\n",
       "    </tr>\n",
       "    <tr>\n",
       "      <th>3</th>\n",
       "      <td>0.0</td>\n",
       "      <td>0.0</td>\n",
       "      <td>7.0</td>\n",
       "      <td>15.0</td>\n",
       "      <td>13.0</td>\n",
       "      <td>1.0</td>\n",
       "      <td>0.0</td>\n",
       "      <td>0.0</td>\n",
       "      <td>0.0</td>\n",
       "      <td>8.0</td>\n",
       "      <td>...</td>\n",
       "      <td>0.0</td>\n",
       "      <td>0.0</td>\n",
       "      <td>0.0</td>\n",
       "      <td>7.0</td>\n",
       "      <td>13.0</td>\n",
       "      <td>13.0</td>\n",
       "      <td>9.0</td>\n",
       "      <td>0.0</td>\n",
       "      <td>0.0</td>\n",
       "      <td>3</td>\n",
       "    </tr>\n",
       "    <tr>\n",
       "      <th>4</th>\n",
       "      <td>0.0</td>\n",
       "      <td>0.0</td>\n",
       "      <td>0.0</td>\n",
       "      <td>1.0</td>\n",
       "      <td>11.0</td>\n",
       "      <td>0.0</td>\n",
       "      <td>0.0</td>\n",
       "      <td>0.0</td>\n",
       "      <td>0.0</td>\n",
       "      <td>0.0</td>\n",
       "      <td>...</td>\n",
       "      <td>0.0</td>\n",
       "      <td>0.0</td>\n",
       "      <td>0.0</td>\n",
       "      <td>0.0</td>\n",
       "      <td>2.0</td>\n",
       "      <td>16.0</td>\n",
       "      <td>4.0</td>\n",
       "      <td>0.0</td>\n",
       "      <td>0.0</td>\n",
       "      <td>4</td>\n",
       "    </tr>\n",
       "    <tr>\n",
       "      <th>...</th>\n",
       "      <td>...</td>\n",
       "      <td>...</td>\n",
       "      <td>...</td>\n",
       "      <td>...</td>\n",
       "      <td>...</td>\n",
       "      <td>...</td>\n",
       "      <td>...</td>\n",
       "      <td>...</td>\n",
       "      <td>...</td>\n",
       "      <td>...</td>\n",
       "      <td>...</td>\n",
       "      <td>...</td>\n",
       "      <td>...</td>\n",
       "      <td>...</td>\n",
       "      <td>...</td>\n",
       "      <td>...</td>\n",
       "      <td>...</td>\n",
       "      <td>...</td>\n",
       "      <td>...</td>\n",
       "      <td>...</td>\n",
       "      <td>...</td>\n",
       "    </tr>\n",
       "    <tr>\n",
       "      <th>1792</th>\n",
       "      <td>0.0</td>\n",
       "      <td>0.0</td>\n",
       "      <td>4.0</td>\n",
       "      <td>10.0</td>\n",
       "      <td>13.0</td>\n",
       "      <td>6.0</td>\n",
       "      <td>0.0</td>\n",
       "      <td>0.0</td>\n",
       "      <td>0.0</td>\n",
       "      <td>1.0</td>\n",
       "      <td>...</td>\n",
       "      <td>0.0</td>\n",
       "      <td>0.0</td>\n",
       "      <td>0.0</td>\n",
       "      <td>2.0</td>\n",
       "      <td>14.0</td>\n",
       "      <td>15.0</td>\n",
       "      <td>9.0</td>\n",
       "      <td>0.0</td>\n",
       "      <td>0.0</td>\n",
       "      <td>9</td>\n",
       "    </tr>\n",
       "    <tr>\n",
       "      <th>1793</th>\n",
       "      <td>0.0</td>\n",
       "      <td>0.0</td>\n",
       "      <td>6.0</td>\n",
       "      <td>16.0</td>\n",
       "      <td>13.0</td>\n",
       "      <td>11.0</td>\n",
       "      <td>1.0</td>\n",
       "      <td>0.0</td>\n",
       "      <td>0.0</td>\n",
       "      <td>0.0</td>\n",
       "      <td>...</td>\n",
       "      <td>0.0</td>\n",
       "      <td>0.0</td>\n",
       "      <td>0.0</td>\n",
       "      <td>6.0</td>\n",
       "      <td>16.0</td>\n",
       "      <td>14.0</td>\n",
       "      <td>6.0</td>\n",
       "      <td>0.0</td>\n",
       "      <td>0.0</td>\n",
       "      <td>0</td>\n",
       "    </tr>\n",
       "    <tr>\n",
       "      <th>1794</th>\n",
       "      <td>0.0</td>\n",
       "      <td>0.0</td>\n",
       "      <td>1.0</td>\n",
       "      <td>11.0</td>\n",
       "      <td>15.0</td>\n",
       "      <td>1.0</td>\n",
       "      <td>0.0</td>\n",
       "      <td>0.0</td>\n",
       "      <td>0.0</td>\n",
       "      <td>0.0</td>\n",
       "      <td>...</td>\n",
       "      <td>0.0</td>\n",
       "      <td>0.0</td>\n",
       "      <td>0.0</td>\n",
       "      <td>2.0</td>\n",
       "      <td>9.0</td>\n",
       "      <td>13.0</td>\n",
       "      <td>6.0</td>\n",
       "      <td>0.0</td>\n",
       "      <td>0.0</td>\n",
       "      <td>8</td>\n",
       "    </tr>\n",
       "    <tr>\n",
       "      <th>1795</th>\n",
       "      <td>0.0</td>\n",
       "      <td>0.0</td>\n",
       "      <td>2.0</td>\n",
       "      <td>10.0</td>\n",
       "      <td>7.0</td>\n",
       "      <td>0.0</td>\n",
       "      <td>0.0</td>\n",
       "      <td>0.0</td>\n",
       "      <td>0.0</td>\n",
       "      <td>0.0</td>\n",
       "      <td>...</td>\n",
       "      <td>0.0</td>\n",
       "      <td>0.0</td>\n",
       "      <td>0.0</td>\n",
       "      <td>5.0</td>\n",
       "      <td>12.0</td>\n",
       "      <td>16.0</td>\n",
       "      <td>12.0</td>\n",
       "      <td>0.0</td>\n",
       "      <td>0.0</td>\n",
       "      <td>9</td>\n",
       "    </tr>\n",
       "    <tr>\n",
       "      <th>1796</th>\n",
       "      <td>0.0</td>\n",
       "      <td>0.0</td>\n",
       "      <td>10.0</td>\n",
       "      <td>14.0</td>\n",
       "      <td>8.0</td>\n",
       "      <td>1.0</td>\n",
       "      <td>0.0</td>\n",
       "      <td>0.0</td>\n",
       "      <td>0.0</td>\n",
       "      <td>2.0</td>\n",
       "      <td>...</td>\n",
       "      <td>0.0</td>\n",
       "      <td>0.0</td>\n",
       "      <td>1.0</td>\n",
       "      <td>8.0</td>\n",
       "      <td>12.0</td>\n",
       "      <td>14.0</td>\n",
       "      <td>12.0</td>\n",
       "      <td>1.0</td>\n",
       "      <td>0.0</td>\n",
       "      <td>8</td>\n",
       "    </tr>\n",
       "  </tbody>\n",
       "</table>\n",
       "<p>1797 rows × 65 columns</p>\n",
       "</div>"
      ],
      "text/plain": [
       "      pixel_0_0  pixel_0_1  pixel_0_2  pixel_0_3  pixel_0_4  pixel_0_5  \\\n",
       "0           0.0        0.0        5.0       13.0        9.0        1.0   \n",
       "1           0.0        0.0        0.0       12.0       13.0        5.0   \n",
       "2           0.0        0.0        0.0        4.0       15.0       12.0   \n",
       "3           0.0        0.0        7.0       15.0       13.0        1.0   \n",
       "4           0.0        0.0        0.0        1.0       11.0        0.0   \n",
       "...         ...        ...        ...        ...        ...        ...   \n",
       "1792        0.0        0.0        4.0       10.0       13.0        6.0   \n",
       "1793        0.0        0.0        6.0       16.0       13.0       11.0   \n",
       "1794        0.0        0.0        1.0       11.0       15.0        1.0   \n",
       "1795        0.0        0.0        2.0       10.0        7.0        0.0   \n",
       "1796        0.0        0.0       10.0       14.0        8.0        1.0   \n",
       "\n",
       "      pixel_0_6  pixel_0_7  pixel_1_0  pixel_1_1  ...  pixel_6_7  pixel_7_0  \\\n",
       "0           0.0        0.0        0.0        0.0  ...        0.0        0.0   \n",
       "1           0.0        0.0        0.0        0.0  ...        0.0        0.0   \n",
       "2           0.0        0.0        0.0        0.0  ...        0.0        0.0   \n",
       "3           0.0        0.0        0.0        8.0  ...        0.0        0.0   \n",
       "4           0.0        0.0        0.0        0.0  ...        0.0        0.0   \n",
       "...         ...        ...        ...        ...  ...        ...        ...   \n",
       "1792        0.0        0.0        0.0        1.0  ...        0.0        0.0   \n",
       "1793        1.0        0.0        0.0        0.0  ...        0.0        0.0   \n",
       "1794        0.0        0.0        0.0        0.0  ...        0.0        0.0   \n",
       "1795        0.0        0.0        0.0        0.0  ...        0.0        0.0   \n",
       "1796        0.0        0.0        0.0        2.0  ...        0.0        0.0   \n",
       "\n",
       "      pixel_7_1  pixel_7_2  pixel_7_3  pixel_7_4  pixel_7_5  pixel_7_6  \\\n",
       "0           0.0        6.0       13.0       10.0        0.0        0.0   \n",
       "1           0.0        0.0       11.0       16.0       10.0        0.0   \n",
       "2           0.0        0.0        3.0       11.0       16.0        9.0   \n",
       "3           0.0        7.0       13.0       13.0        9.0        0.0   \n",
       "4           0.0        0.0        2.0       16.0        4.0        0.0   \n",
       "...         ...        ...        ...        ...        ...        ...   \n",
       "1792        0.0        2.0       14.0       15.0        9.0        0.0   \n",
       "1793        0.0        6.0       16.0       14.0        6.0        0.0   \n",
       "1794        0.0        2.0        9.0       13.0        6.0        0.0   \n",
       "1795        0.0        5.0       12.0       16.0       12.0        0.0   \n",
       "1796        1.0        8.0       12.0       14.0       12.0        1.0   \n",
       "\n",
       "      pixel_7_7  digito  \n",
       "0           0.0       0  \n",
       "1           0.0       1  \n",
       "2           0.0       2  \n",
       "3           0.0       3  \n",
       "4           0.0       4  \n",
       "...         ...     ...  \n",
       "1792        0.0       9  \n",
       "1793        0.0       0  \n",
       "1794        0.0       8  \n",
       "1795        0.0       9  \n",
       "1796        0.0       8  \n",
       "\n",
       "[1797 rows x 65 columns]"
      ]
     },
     "execution_count": 19,
     "metadata": {},
     "output_type": "execute_result"
    }
   ],
   "source": [
    "df"
   ]
  },
  {
   "cell_type": "markdown",
   "id": "6f3a860d",
   "metadata": {},
   "source": [
    "Vamos a escalar los datos de entrada en un intervalo entre 0 y 1, utilizando la función 'MinMaxScaler()' del módulo 'sklearn.preprocessing' de Scikit-Learn.\n",
    "\n",
    "La <b>primera línea</b> del código crea un objeto de 'MinMaxScaler()', que se utilizará para escalar los datos de entrada.\n",
    "\n",
    "La <b>segunda línea</b> del código aplica la transformación a los datos de entrada utilizando el método 'fit_transform()' del objeto 'MinMaxScaler()'. Esto escala los datos de entrada de forma que los valores más bajos se convierten en 0, los valores más altos se convierten en 1 y los valores intermedios se escalan linealmente entre estos dos extremos.\n",
    "\n",
    "La <b>tercera línea</b> del código define la variable 'y' que almacena las etiquetas o clases asociadas con cada imagen de dígito en el conjunto de datos. Estas etiquetas se toman directamente del conjunto de datos de entrada ('digitos.target')."
   ]
  },
  {
   "cell_type": "code",
   "execution_count": 10,
   "id": "cb151359",
   "metadata": {},
   "outputs": [],
   "source": [
    "escala = MinMaxScaler()  # transformamos a intervalo (0,1)\n",
    "\n",
    "X = escala.fit_transform(digitos.data)\n",
    "y = digitos.target"
   ]
  },
  {
   "cell_type": "code",
   "execution_count": 11,
   "id": "aec04e32",
   "metadata": {},
   "outputs": [],
   "source": [
    "import warnings\n",
    "warnings.filterwarnings(\"ignore\")\n"
   ]
  },
  {
   "cell_type": "markdown",
   "id": "36b8165a",
   "metadata": {},
   "source": [
    "Este código realiza la validación cruzada utilizando el método k-vecinos más cercanos (KNN) en un conjunto de datos de dígitos escritos a mano.\n",
    "\n",
    "La <b>primera línea</b> del código crea una matriz de ceros de tamaño (10, 15) y tipo de datos flotante, que se utilizará para almacenar las puntuaciones de precisión de KNN para cada iteración de validación cruzada.\n",
    "\n",
    "El código utiliza <b>un bucle</b> for para realizar 10 iteraciones de validación cruzada, donde en cada iteración, el conjunto de datos se divide en conjuntos de entrenamiento y prueba utilizando el método \"resorte holdout\" con una proporción de 1/3 para el conjunto de prueba.\n",
    "\n",
    "El <b>segundo bucle</b> for realiza KNN en cada iteración utilizando el número de vecinos \"k\" desde 1 hasta 15.\n",
    "\n",
    "Dentro del <b>segundo bucle</b>, se crea un objeto 'KNeighborsClassifier' de Scikit-Learn, donde se establece el número de vecinos 'n_neighbors' en el valor de 'k', y se utiliza el algoritmo 'brute' para encontrar los vecinos más cercanos.\n",
    "\n",
    "A continuación, se ajusta el clasificador KNN utilizando los datos de entrenamiento ('X_train' e 'y_train') utilizando el método 'fit()'. Luego, se evalúa la precisión del modelo KNN en los datos de prueba ('X_test' e 'y_test') utilizando el método 'score()' y se almacena la precisión en la matriz de precisión 'accuracy'."
   ]
  },
  {
   "cell_type": "code",
   "execution_count": 12,
   "id": "00ad2bd3",
   "metadata": {
    "scrolled": true
   },
   "outputs": [],
   "source": [
    "accuracy = np.zeros((10, 15), dtype=float)\n",
    "for h in range(10):\n",
    "    X_train, X_test, y_train, y_test = train_test_split(X, y, test_size = 1/3 , stratify=y) #metodo de resorte holdout\n",
    "    for k in range(1,16): #metodo k vecinos desde 1 hasta 15\n",
    "        clf = KNeighborsClassifier(n_neighbors = k , algorithm='brute')\n",
    "        clf.fit(X_train, y_train)\n",
    "        accuracy[h,k-1] = clf.score(X_test,y_test)\n",
    "\n"
   ]
  },
  {
   "cell_type": "code",
   "execution_count": 14,
   "id": "5833cfea",
   "metadata": {},
   "outputs": [
    {
     "data": {
      "text/plain": [
       "array([0.98647746, 0.98480801, 0.98664441, 0.9836394 , 0.98414023,\n",
       "       0.98230384, 0.98247078, 0.98046745, 0.98080134, 0.97846411,\n",
       "       0.97829716, 0.97562604, 0.97712855, 0.97445743, 0.97429048])"
      ]
     },
     "execution_count": 14,
     "metadata": {},
     "output_type": "execute_result"
    }
   ],
   "source": [
    "aciertos= np.mean(accuracy, axis=0)\n",
    "aciertos\n"
   ]
  },
  {
   "cell_type": "code",
   "execution_count": 10,
   "id": "99fea847",
   "metadata": {},
   "outputs": [
    {
     "data": {
      "text/plain": [
       "(15,)"
      ]
     },
     "execution_count": 10,
     "metadata": {},
     "output_type": "execute_result"
    }
   ],
   "source": [
    "aciertos.shape\n"
   ]
  },
  {
   "cell_type": "markdown",
   "id": "867e7be3",
   "metadata": {},
   "source": [
    "La <b>primera línea</b> del código crea una figura utilizando el método 'subplots()' de Matplotlib y establece el tamaño de la figura en (10,5).\n",
    "\n",
    "La <b>segunda línea</b> del código utiliza el método 'bar()' de Matplotlib para crear el diagrama de barras. El eje x de las barras se establece en 'np.arange(1, 16)', que es un arreglo que contiene los valores de k desde 1 hasta 15. El eje y de las barras se establece en 'height=aciertos', donde 'aciertos' es una lista que contiene la precisión del modelo KNN para cada valor de k.\n",
    "\n",
    "La <b>tercera línea</b> del código utiliza el método 'set_ylim()' de Matplotlib para establecer los límites del eje y en el intervalo de 0.85 a 0.99.\n",
    "\n",
    "La <b>cuarta línea</b> del código utiliza el método 'set_title()' de Matplotlib para establecer el título del diagrama de barras en \"DataSet: DIGITS (1797)\".\n",
    "\n",
    "La <b>quinta línea</b> del código utiliza el método 'set_xlabel()' de Matplotlib para establecer la etiqueta del eje x del diagrama de barras en \"K - vecinos\".\n",
    "\n",
    "La <b>sexta línea</b> del código utiliza el método 'set_ylabel()' de Matplotlib para establecer la etiqueta del eje y del diagrama de barras en \"Aciertos\".\n",
    "\n",
    "En resumen, este código genera un diagrama de barras que muestra la precisión del modelo KNN para diferentes valores de K en un conjunto de datos de dígitos escritos a mano. El diagrama de barras se personaliza para incluir títulos y etiquetas de ejes adecuados."
   ]
  },
  {
   "cell_type": "code",
   "execution_count": 11,
   "id": "68319aee",
   "metadata": {},
   "outputs": [
    {
     "data": {
      "text/plain": [
       "Text(0, 0.5, 'Aciertos')"
      ]
     },
     "execution_count": 11,
     "metadata": {},
     "output_type": "execute_result"
    },
    {
     "data": {
      "image/png": "[encoded data removed]",
      "text/plain": [
       "<Figure size 1000x500 with 1 Axes>"
      ]
     },
     "metadata": {},
     "output_type": "display_data"
    }
   ],
   "source": [
    "fig, ax =plt.subplots(figsize=(10,5))  # represenatcion diagrama de barras\n",
    "ax.bar(x=np.arange(1, 16), height=aciertos)\n",
    "ax.set_ylim(0.85,0.99)\n",
    "ax.set_title('DataSet: DIGITS (1797)')\n",
    "ax.set_xlabel('K - vecinos')\n",
    "ax.set_ylabel('Aciertos')"
   ]
  },
  {
   "cell_type": "code",
   "execution_count": 12,
   "id": "77d7c31d",
   "metadata": {},
   "outputs": [
    {
     "name": "stdout",
     "output_type": "stream",
     "text": [
      "Kmax  =  18 \tTasa max =  0.996661101836394\n"
     ]
    }
   ],
   "source": [
    "print('Kmax  = ', np.argmax(accuracy)+1, '\\tTasa max = ',np.max(accuracy))  #k-optimo y su tasa de aciertosç"
   ]
  },
  {
   "cell_type": "markdown",
   "id": "529e4bca",
   "metadata": {},
   "source": [
    "# PARTE 2:\n",
    "Lo mismo que lo anterior, sólo que los píxeles hay que reducirlos a bits, esto es, poner uno si el\n",
    "pixel no era cero y dejar el cero, si ya lo era. "
   ]
  },
  {
   "cell_type": "markdown",
   "id": "849e7587",
   "metadata": {},
   "source": [
    "Este código realiza una operación booleana en la matriz 'digitos.data' para transformar los valores no nulos en 1 y los valores nulos en 0.\n",
    "\n",
    "La expresión 'digitos.data != 0' devuelve una matriz booleana del mismo tamaño que 'digitos.data', donde cada elemento de la matriz se establece en 'True' si el valor correspondiente en 'digitos.data' es diferente de 0, y se establece en 'False' si el valor correspondiente en 'digitos.data' es igual a 0.\n",
    "\n",
    "Por lo tanto, la operación 'digitos.data != 0' transforma la matriz 'digitos.data' en una matriz de 1s y 0s, donde los valores diferentes de 0 se transforman en 1 y los valores iguales a 0 se transforman en 0."
   ]
  },
  {
   "cell_type": "code",
   "execution_count": 13,
   "id": "339952af",
   "metadata": {},
   "outputs": [
    {
     "data": {
      "text/plain": [
       "array([[False, False,  True, ..., False, False, False],\n",
       "       [False, False, False, ...,  True, False, False],\n",
       "       [False, False, False, ...,  True,  True, False],\n",
       "       ...,\n",
       "       [False, False,  True, ...,  True, False, False],\n",
       "       [False, False,  True, ...,  True, False, False],\n",
       "       [False, False,  True, ...,  True,  True, False]])"
      ]
     },
     "execution_count": 13,
     "metadata": {},
     "output_type": "execute_result"
    }
   ],
   "source": [
    "digitos.data != 0  #transformar a 1 o 0"
   ]
  },
  {
   "cell_type": "markdown",
   "id": "6d387f5d",
   "metadata": {},
   "source": [
    "Este código ajusta un modelo KNN a un conjunto de datos de dígitos escritos a mano después de haber transformado los datos para que los valores no nulos se conviertan en 1 y los valores nulos en 0.\n",
    "\n",
    "La <b>primera línea</b> del código crea una matriz de 'X' que tiene la misma forma que 'digitos.data', pero se convierte en una matriz booleana que contiene valores de 1 para cada posición en 'digitos.data' que no sea cero y valores de 0 en cualquier otra posición.\n",
    "\n",
    "La <b>segunda línea</b> del código crea una matriz de 'accuracy' de tamaño (10, 15) y tipo de datos flotante para almacenar los resultados de precisión.\n",
    "\n",
    "El resto del código es un bucle que itera 10 veces. En cada iteración, se divide aleatoriamente el conjunto de datos en conjuntos de entrenamiento y prueba utilizando el método de resorte holdout. Luego, se ajusta el modelo KNN utilizando el algoritmo \"brute\" para cada valor de k de 1 a 15, y se almacena la precisión del modelo en la matriz 'accuracy' correspondiente al número de iteración y al valor de k.\n",
    "\n",
    "En resumen, este código transforma el conjunto de datos para que los valores no nulos se conviertan en 1 y los valores nulos en 0, y luego ajusta un modelo KNN utilizando el algoritmo \"brute\" para diferentes valores de k. La precisión del modelo se almacena en una matriz y se utiliza para evaluar el rendimiento del modelo para diferentes valores de k."
   ]
  },
  {
   "cell_type": "code",
   "execution_count": 15,
   "id": "0acf068c",
   "metadata": {},
   "outputs": [
    {
     "data": {
      "text/plain": [
       "array([[0., 0., 1., ..., 0., 0., 0.],\n",
       "       [0., 0., 0., ..., 1., 0., 0.],\n",
       "       [0., 0., 0., ..., 1., 1., 0.],\n",
       "       ...,\n",
       "       [0., 0., 1., ..., 1., 0., 0.],\n",
       "       [0., 0., 1., ..., 1., 0., 0.],\n",
       "       [0., 0., 1., ..., 1., 1., 0.]])"
      ]
     },
     "execution_count": 15,
     "metadata": {},
     "output_type": "execute_result"
    }
   ],
   "source": [
    "X = np.array(digitos.data != 0, dtype=float) \n",
    "X"
   ]
  },
  {
   "cell_type": "code",
   "execution_count": 15,
   "id": "788f1aa9",
   "metadata": {},
   "outputs": [],
   "source": [
    "accuracy = np.zeros((10, 15), dtype=float)\n",
    "for h in range(10):\n",
    "    X_train, X_test, y_train, y_test = train_test_split(X, y, test_size=1/3, stratify=y)\n",
    "    for k in range (1, 16):\n",
    "        clf = KNeighborsClassifier(n_neighbors = k , algorithm='brute')\n",
    "        clf.fit(X_train, y_train)\n",
    "        accuracy[h,k-1] = clf.score(X_test,y_test)"
   ]
  },
  {
   "cell_type": "code",
   "execution_count": 16,
   "id": "d0f10cf5",
   "metadata": {},
   "outputs": [
    {
     "data": {
      "text/plain": [
       "(15,)"
      ]
     },
     "execution_count": 16,
     "metadata": {},
     "output_type": "execute_result"
    }
   ],
   "source": [
    "aciertos= np.mean(accuracy, axis=0)\n",
    "aciertos.shape"
   ]
  },
  {
   "cell_type": "markdown",
   "id": "35bfcde0",
   "metadata": {},
   "source": [
    "La <b>primera línea</b> del código crea una figura y un objeto de eje (ax) usando la función subplots() de la biblioteca matplotlib.pyplot.\n",
    "\n",
    "La <b>segunda línea</b> traza un gráfico de barras utilizando la función bar() de ax, donde el eje x es un array NumPy de números enteros del 1 al 15 (utilizando np.arange(1,16)), y la altura de cada barra es la precisión del modelo para cada valor de k, almacenada en la matriz aciertos.\n",
    "\n",
    "La <b>tercera línea</b> establece los límites del eje y utilizando la función set_ylim() de ax, donde el límite inferior es 0.85 y el límite superior es 0.99.\n",
    "\n",
    "La <b>cuarta línea</b> establece el título del gráfico utilizando la función set_title() de ax, con el texto \"DataSet: DIGITS (1797)\".\n",
    "\n",
    "La <b>quinta línea</b> establece la etiqueta del eje x utilizando la función set_xlabel() de ax, con el texto \"K - vecinos\".\n",
    "\n",
    "La <b>sexta línea</b> establece la etiqueta del eje y utilizando la función set_ylabel() de ax, con el texto \"Aciertos\".\n",
    "\n",
    "Finalmente, la última línea del código cierra el gráfico y muestra la visualización."
   ]
  },
  {
   "cell_type": "code",
   "execution_count": 17,
   "id": "9151222c",
   "metadata": {},
   "outputs": [
    {
     "data": {
      "image/png": "[encoded data removed]",
      "text/plain": [
       "<Figure size 640x480 with 1 Axes>"
      ]
     },
     "metadata": {},
     "output_type": "display_data"
    }
   ],
   "source": [
    "fig, ax = plt.subplots()\n",
    "ax.bar(x=np.arange(1,16),height=aciertos)\n",
    "ax.set_ylim(0.85,0.99)\n",
    "ax.set_title('DataSet: DIGITS (1797)')\n",
    "ax.set_xlabel('K - vecinos')\n",
    "ax.set_ylabel('Aciertos');"
   ]
  },
  {
   "cell_type": "code",
   "execution_count": 18,
   "id": "5a94c362",
   "metadata": {},
   "outputs": [
    {
     "name": "stdout",
     "output_type": "stream",
     "text": [
      "Kmax =  28 \tTasa max =  0.9232053422370617\n"
     ]
    }
   ],
   "source": [
    "print('Kmax = ',np.argmax(accuracy)+1, '\\tTasa max = ', np.max(accuracy))"
   ]
  },
  {
   "cell_type": "code",
   "execution_count": 19,
   "id": "6c608053",
   "metadata": {},
   "outputs": [
    {
     "name": "stdout",
     "output_type": "stream",
     "text": [
      ".. _digits_dataset:\n",
      "\n",
      "Optical recognition of handwritten digits dataset\n",
      "--------------------------------------------------\n",
      "\n",
      "**Data Set Characteristics:**\n",
      "\n",
      "    :Number of Instances: 1797\n",
      "    :Number of Attributes: 64\n",
      "    :Attribute Information: 8x8 image of integer pixels in the range 0..16.\n",
      "    :Missing Attribute Values: None\n",
      "    :Creator: E. Alpaydin (alpaydin '@' boun.edu.tr)\n",
      "    :Date: July; 1998\n",
      "\n",
      "This is a copy of the test set of the UCI ML hand-written digits datasets\n",
      "https://archive.ics.uci.edu/ml/datasets/Optical+Recognition+of+Handwritten+Digits\n",
      "\n",
      "The data set contains images of hand-written digits: 10 classes where\n",
      "each class refers to a digit.\n",
      "\n",
      "Preprocessing programs made available by NIST were used to extract\n",
      "normalized bitmaps of handwritten digits from a preprinted form. From a\n",
      "total of 43 people, 30 contributed to the training set and different 13\n",
      "to the test set. 32x32 bitmaps are divided into nonoverlapping blocks of\n",
      "4x4 and the number of on pixels are counted in each block. This generates\n",
      "an input matrix of 8x8 where each element is an integer in the range\n",
      "0..16. This reduces dimensionality and gives invariance to small\n",
      "distortions.\n",
      "\n",
      "For info on NIST preprocessing routines, see M. D. Garris, J. L. Blue, G.\n",
      "T. Candela, D. L. Dimmick, J. Geist, P. J. Grother, S. A. Janet, and C.\n",
      "L. Wilson, NIST Form-Based Handprint Recognition System, NISTIR 5469,\n",
      "1994.\n",
      "\n",
      ".. topic:: References\n",
      "\n",
      "  - C. Kaynak (1995) Methods of Combining Multiple Classifiers and Their\n",
      "    Applications to Handwritten Digit Recognition, MSc Thesis, Institute of\n",
      "    Graduate Studies in Science and Engineering, Bogazici University.\n",
      "  - E. Alpaydin, C. Kaynak (1998) Cascading Classifiers, Kybernetika.\n",
      "  - Ken Tang and Ponnuthurai N. Suganthan and Xi Yao and A. Kai Qin.\n",
      "    Linear dimensionalityreduction using relevance weighted LDA. School of\n",
      "    Electrical and Electronic Engineering Nanyang Technological University.\n",
      "    2005.\n",
      "  - Claudio Gentile. A New Approximate Maximal Margin Classification\n",
      "    Algorithm. NIPS. 2000.\n",
      "\n"
     ]
    }
   ],
   "source": [
    "print(digitos.DESCR)\n"
   ]
  },
  {
   "cell_type": "code",
   "execution_count": null,
   "id": "0cc273e2",
   "metadata": {},
   "outputs": [],
   "source": []
  }
 ],
 "metadata": {
  "kernelspec": {
   "display_name": "Python 3 (ipykernel)",
   "language": "python",
   "name": "python3"
  },
  "language_info": {
   "codemirror_mode": {
    "name": "ipython",
    "version": 3
   },
   "file_extension": ".py",
   "mimetype": "text/x-python",
   "name": "python",
   "nbconvert_exporter": "python",
   "pygments_lexer": "ipython3",
   "version": "3.9.13"
  }
 },
 "nbformat": 4,
 "nbformat_minor": 5
}
