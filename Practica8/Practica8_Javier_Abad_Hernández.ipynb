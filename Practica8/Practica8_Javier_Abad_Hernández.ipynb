{
 "cells": [
  {
   "cell_type": "code",
   "execution_count": 82,
   "id": "d1152a7d",
   "metadata": {},
   "outputs": [],
   "source": [
    "import numpy as np\n",
    "import pandas as pd\n",
    "from sklearn.preprocessing import MinMaxScaler\n",
    "from sklearn.model_selection import train_test_split\n",
    "from sklearn.preprocessing import LabelBinarizer, label_binarize\n",
    "from sklearn.linear_model import LinearRegression, SGDRegressor\n",
    "from sklearn.metrics import confusion_matrix\n",
    "from sklearn.model_selection import StratifiedKFold\n",
    "from sklearn.linear_model import LogisticRegression\n",
    "\n",
    "\n"
   ]
  },
  {
   "cell_type": "markdown",
   "id": "26ffb47e",
   "metadata": {},
   "source": [
    "### Ejercicio 1:"
   ]
  },
  {
   "cell_type": "code",
   "execution_count": 75,
   "id": "7cbfb6fa",
   "metadata": {},
   "outputs": [
    {
     "data": {
      "text/html": [
       "<div>\n",
       "<style scoped>\n",
       "    .dataframe tbody tr th:only-of-type {\n",
       "        vertical-align: middle;\n",
       "    }\n",
       "\n",
       "    .dataframe tbody tr th {\n",
       "        vertical-align: top;\n",
       "    }\n",
       "\n",
       "    .dataframe thead th {\n",
       "        text-align: right;\n",
       "    }\n",
       "</style>\n",
       "<table border=\"1\" class=\"dataframe\">\n",
       "  <thead>\n",
       "    <tr style=\"text-align: right;\">\n",
       "      <th></th>\n",
       "      <th>region-centroid-col</th>\n",
       "      <th>region-centroid-row</th>\n",
       "      <th>region-pixel-count</th>\n",
       "      <th>short-line-density-5</th>\n",
       "      <th>short-line-density-2</th>\n",
       "      <th>vedge-mean</th>\n",
       "      <th>vegde-sd</th>\n",
       "      <th>hedge-mean</th>\n",
       "      <th>hedge-sd</th>\n",
       "      <th>intensity-mean</th>\n",
       "      <th>rawred-mean</th>\n",
       "      <th>rawblue-mean</th>\n",
       "      <th>rawgreen-mean</th>\n",
       "      <th>exred-mean</th>\n",
       "      <th>exblue-mean</th>\n",
       "      <th>exgreen-mean</th>\n",
       "      <th>value-mean</th>\n",
       "      <th>saturation-mean</th>\n",
       "      <th>hue-mean</th>\n",
       "      <th>class</th>\n",
       "    </tr>\n",
       "  </thead>\n",
       "  <tbody>\n",
       "    <tr>\n",
       "      <th>0</th>\n",
       "      <td>218</td>\n",
       "      <td>178</td>\n",
       "      <td>9</td>\n",
       "      <td>0.111111</td>\n",
       "      <td>0.0</td>\n",
       "      <td>0.833333</td>\n",
       "      <td>0.547722</td>\n",
       "      <td>1.111110</td>\n",
       "      <td>0.544331</td>\n",
       "      <td>59.629600</td>\n",
       "      <td>52.44440</td>\n",
       "      <td>75.22220</td>\n",
       "      <td>51.222200</td>\n",
       "      <td>-21.555600</td>\n",
       "      <td>46.77780</td>\n",
       "      <td>-25.22220</td>\n",
       "      <td>75.22220</td>\n",
       "      <td>0.318996</td>\n",
       "      <td>-2.04055</td>\n",
       "      <td>path</td>\n",
       "    </tr>\n",
       "    <tr>\n",
       "      <th>1</th>\n",
       "      <td>113</td>\n",
       "      <td>130</td>\n",
       "      <td>9</td>\n",
       "      <td>0.000000</td>\n",
       "      <td>0.0</td>\n",
       "      <td>0.277778</td>\n",
       "      <td>0.250924</td>\n",
       "      <td>0.333333</td>\n",
       "      <td>0.365148</td>\n",
       "      <td>0.888889</td>\n",
       "      <td>0.00000</td>\n",
       "      <td>2.55556</td>\n",
       "      <td>0.111111</td>\n",
       "      <td>-2.666670</td>\n",
       "      <td>5.00000</td>\n",
       "      <td>-2.33333</td>\n",
       "      <td>2.55556</td>\n",
       "      <td>1.000000</td>\n",
       "      <td>-2.12325</td>\n",
       "      <td>foliage</td>\n",
       "    </tr>\n",
       "    <tr>\n",
       "      <th>2</th>\n",
       "      <td>202</td>\n",
       "      <td>41</td>\n",
       "      <td>9</td>\n",
       "      <td>0.000000</td>\n",
       "      <td>0.0</td>\n",
       "      <td>0.944448</td>\n",
       "      <td>0.772202</td>\n",
       "      <td>1.111110</td>\n",
       "      <td>1.025600</td>\n",
       "      <td>123.037000</td>\n",
       "      <td>111.88900</td>\n",
       "      <td>139.77800</td>\n",
       "      <td>117.444000</td>\n",
       "      <td>-33.444400</td>\n",
       "      <td>50.22220</td>\n",
       "      <td>-16.77780</td>\n",
       "      <td>139.77800</td>\n",
       "      <td>0.199347</td>\n",
       "      <td>-2.29992</td>\n",
       "      <td>sky</td>\n",
       "    </tr>\n",
       "    <tr>\n",
       "      <th>3</th>\n",
       "      <td>32</td>\n",
       "      <td>173</td>\n",
       "      <td>9</td>\n",
       "      <td>0.000000</td>\n",
       "      <td>0.0</td>\n",
       "      <td>1.722220</td>\n",
       "      <td>1.781590</td>\n",
       "      <td>9.000000</td>\n",
       "      <td>6.749490</td>\n",
       "      <td>43.592600</td>\n",
       "      <td>39.55560</td>\n",
       "      <td>52.88890</td>\n",
       "      <td>38.333300</td>\n",
       "      <td>-12.111100</td>\n",
       "      <td>27.88890</td>\n",
       "      <td>-15.77780</td>\n",
       "      <td>52.88890</td>\n",
       "      <td>0.266914</td>\n",
       "      <td>-1.99886</td>\n",
       "      <td>path</td>\n",
       "    </tr>\n",
       "    <tr>\n",
       "      <th>4</th>\n",
       "      <td>61</td>\n",
       "      <td>197</td>\n",
       "      <td>9</td>\n",
       "      <td>0.000000</td>\n",
       "      <td>0.0</td>\n",
       "      <td>1.444440</td>\n",
       "      <td>1.515350</td>\n",
       "      <td>2.611110</td>\n",
       "      <td>1.925460</td>\n",
       "      <td>49.592600</td>\n",
       "      <td>44.22220</td>\n",
       "      <td>61.55560</td>\n",
       "      <td>43.000000</td>\n",
       "      <td>-16.111100</td>\n",
       "      <td>35.88890</td>\n",
       "      <td>-19.77780</td>\n",
       "      <td>61.55560</td>\n",
       "      <td>0.302925</td>\n",
       "      <td>-2.02227</td>\n",
       "      <td>path</td>\n",
       "    </tr>\n",
       "    <tr>\n",
       "      <th>...</th>\n",
       "      <td>...</td>\n",
       "      <td>...</td>\n",
       "      <td>...</td>\n",
       "      <td>...</td>\n",
       "      <td>...</td>\n",
       "      <td>...</td>\n",
       "      <td>...</td>\n",
       "      <td>...</td>\n",
       "      <td>...</td>\n",
       "      <td>...</td>\n",
       "      <td>...</td>\n",
       "      <td>...</td>\n",
       "      <td>...</td>\n",
       "      <td>...</td>\n",
       "      <td>...</td>\n",
       "      <td>...</td>\n",
       "      <td>...</td>\n",
       "      <td>...</td>\n",
       "      <td>...</td>\n",
       "      <td>...</td>\n",
       "    </tr>\n",
       "    <tr>\n",
       "      <th>2305</th>\n",
       "      <td>30</td>\n",
       "      <td>102</td>\n",
       "      <td>9</td>\n",
       "      <td>0.000000</td>\n",
       "      <td>0.0</td>\n",
       "      <td>1.222220</td>\n",
       "      <td>0.118518</td>\n",
       "      <td>1.333330</td>\n",
       "      <td>0.800000</td>\n",
       "      <td>20.259300</td>\n",
       "      <td>20.33330</td>\n",
       "      <td>25.00000</td>\n",
       "      <td>15.444400</td>\n",
       "      <td>0.222222</td>\n",
       "      <td>14.22220</td>\n",
       "      <td>-14.44440</td>\n",
       "      <td>25.00000</td>\n",
       "      <td>0.381059</td>\n",
       "      <td>-1.55510</td>\n",
       "      <td>brickface</td>\n",
       "    </tr>\n",
       "    <tr>\n",
       "      <th>2306</th>\n",
       "      <td>143</td>\n",
       "      <td>24</td>\n",
       "      <td>9</td>\n",
       "      <td>0.000000</td>\n",
       "      <td>0.0</td>\n",
       "      <td>1.277780</td>\n",
       "      <td>0.907406</td>\n",
       "      <td>0.888888</td>\n",
       "      <td>1.140750</td>\n",
       "      <td>127.630000</td>\n",
       "      <td>117.66700</td>\n",
       "      <td>141.66700</td>\n",
       "      <td>123.556000</td>\n",
       "      <td>-29.888900</td>\n",
       "      <td>42.11110</td>\n",
       "      <td>-12.22220</td>\n",
       "      <td>141.66700</td>\n",
       "      <td>0.169397</td>\n",
       "      <td>-2.34925</td>\n",
       "      <td>sky</td>\n",
       "    </tr>\n",
       "    <tr>\n",
       "      <th>2307</th>\n",
       "      <td>80</td>\n",
       "      <td>72</td>\n",
       "      <td>9</td>\n",
       "      <td>0.000000</td>\n",
       "      <td>0.0</td>\n",
       "      <td>1.222220</td>\n",
       "      <td>1.003700</td>\n",
       "      <td>1.444440</td>\n",
       "      <td>1.167460</td>\n",
       "      <td>59.000000</td>\n",
       "      <td>51.33330</td>\n",
       "      <td>74.44440</td>\n",
       "      <td>51.222200</td>\n",
       "      <td>-23.000000</td>\n",
       "      <td>46.33330</td>\n",
       "      <td>-23.33330</td>\n",
       "      <td>74.44440</td>\n",
       "      <td>0.314606</td>\n",
       "      <td>-2.09022</td>\n",
       "      <td>cement</td>\n",
       "    </tr>\n",
       "    <tr>\n",
       "      <th>2308</th>\n",
       "      <td>98</td>\n",
       "      <td>133</td>\n",
       "      <td>9</td>\n",
       "      <td>0.000000</td>\n",
       "      <td>0.0</td>\n",
       "      <td>0.555555</td>\n",
       "      <td>0.172133</td>\n",
       "      <td>0.388889</td>\n",
       "      <td>0.327731</td>\n",
       "      <td>0.962963</td>\n",
       "      <td>0.00000</td>\n",
       "      <td>2.77778</td>\n",
       "      <td>0.111111</td>\n",
       "      <td>-2.888890</td>\n",
       "      <td>5.44444</td>\n",
       "      <td>-2.55556</td>\n",
       "      <td>2.77778</td>\n",
       "      <td>1.000000</td>\n",
       "      <td>-2.12325</td>\n",
       "      <td>foliage</td>\n",
       "    </tr>\n",
       "    <tr>\n",
       "      <th>2309</th>\n",
       "      <td>19</td>\n",
       "      <td>147</td>\n",
       "      <td>9</td>\n",
       "      <td>0.000000</td>\n",
       "      <td>0.0</td>\n",
       "      <td>0.222222</td>\n",
       "      <td>0.074074</td>\n",
       "      <td>0.500000</td>\n",
       "      <td>0.077778</td>\n",
       "      <td>4.148150</td>\n",
       "      <td>3.88889</td>\n",
       "      <td>6.66667</td>\n",
       "      <td>1.888890</td>\n",
       "      <td>-0.777778</td>\n",
       "      <td>7.55556</td>\n",
       "      <td>-6.77778</td>\n",
       "      <td>7.00000</td>\n",
       "      <td>0.713228</td>\n",
       "      <td>-1.47564</td>\n",
       "      <td>brickface</td>\n",
       "    </tr>\n",
       "  </tbody>\n",
       "</table>\n",
       "<p>2310 rows × 20 columns</p>\n",
       "</div>"
      ],
      "text/plain": [
       "      region-centroid-col  region-centroid-row  region-pixel-count  \\\n",
       "0                     218                  178                   9   \n",
       "1                     113                  130                   9   \n",
       "2                     202                   41                   9   \n",
       "3                      32                  173                   9   \n",
       "4                      61                  197                   9   \n",
       "...                   ...                  ...                 ...   \n",
       "2305                   30                  102                   9   \n",
       "2306                  143                   24                   9   \n",
       "2307                   80                   72                   9   \n",
       "2308                   98                  133                   9   \n",
       "2309                   19                  147                   9   \n",
       "\n",
       "      short-line-density-5  short-line-density-2  vedge-mean  vegde-sd  \\\n",
       "0                 0.111111                   0.0    0.833333  0.547722   \n",
       "1                 0.000000                   0.0    0.277778  0.250924   \n",
       "2                 0.000000                   0.0    0.944448  0.772202   \n",
       "3                 0.000000                   0.0    1.722220  1.781590   \n",
       "4                 0.000000                   0.0    1.444440  1.515350   \n",
       "...                    ...                   ...         ...       ...   \n",
       "2305              0.000000                   0.0    1.222220  0.118518   \n",
       "2306              0.000000                   0.0    1.277780  0.907406   \n",
       "2307              0.000000                   0.0    1.222220  1.003700   \n",
       "2308              0.000000                   0.0    0.555555  0.172133   \n",
       "2309              0.000000                   0.0    0.222222  0.074074   \n",
       "\n",
       "      hedge-mean  hedge-sd  intensity-mean  rawred-mean  rawblue-mean  \\\n",
       "0       1.111110  0.544331       59.629600     52.44440      75.22220   \n",
       "1       0.333333  0.365148        0.888889      0.00000       2.55556   \n",
       "2       1.111110  1.025600      123.037000    111.88900     139.77800   \n",
       "3       9.000000  6.749490       43.592600     39.55560      52.88890   \n",
       "4       2.611110  1.925460       49.592600     44.22220      61.55560   \n",
       "...          ...       ...             ...          ...           ...   \n",
       "2305    1.333330  0.800000       20.259300     20.33330      25.00000   \n",
       "2306    0.888888  1.140750      127.630000    117.66700     141.66700   \n",
       "2307    1.444440  1.167460       59.000000     51.33330      74.44440   \n",
       "2308    0.388889  0.327731        0.962963      0.00000       2.77778   \n",
       "2309    0.500000  0.077778        4.148150      3.88889       6.66667   \n",
       "\n",
       "      rawgreen-mean  exred-mean  exblue-mean  exgreen-mean  value-mean  \\\n",
       "0         51.222200  -21.555600     46.77780     -25.22220    75.22220   \n",
       "1          0.111111   -2.666670      5.00000      -2.33333     2.55556   \n",
       "2        117.444000  -33.444400     50.22220     -16.77780   139.77800   \n",
       "3         38.333300  -12.111100     27.88890     -15.77780    52.88890   \n",
       "4         43.000000  -16.111100     35.88890     -19.77780    61.55560   \n",
       "...             ...         ...          ...           ...         ...   \n",
       "2305      15.444400    0.222222     14.22220     -14.44440    25.00000   \n",
       "2306     123.556000  -29.888900     42.11110     -12.22220   141.66700   \n",
       "2307      51.222200  -23.000000     46.33330     -23.33330    74.44440   \n",
       "2308       0.111111   -2.888890      5.44444      -2.55556     2.77778   \n",
       "2309       1.888890   -0.777778      7.55556      -6.77778     7.00000   \n",
       "\n",
       "      saturation-mean  hue-mean      class  \n",
       "0            0.318996  -2.04055       path  \n",
       "1            1.000000  -2.12325    foliage  \n",
       "2            0.199347  -2.29992        sky  \n",
       "3            0.266914  -1.99886       path  \n",
       "4            0.302925  -2.02227       path  \n",
       "...               ...       ...        ...  \n",
       "2305         0.381059  -1.55510  brickface  \n",
       "2306         0.169397  -2.34925        sky  \n",
       "2307         0.314606  -2.09022     cement  \n",
       "2308         1.000000  -2.12325    foliage  \n",
       "2309         0.713228  -1.47564  brickface  \n",
       "\n",
       "[2310 rows x 20 columns]"
      ]
     },
     "execution_count": 75,
     "metadata": {},
     "output_type": "execute_result"
    }
   ],
   "source": [
    "data=pd.read_csv(\"dataset_36_segment.csv\")\n",
    "data\n"
   ]
  },
  {
   "cell_type": "markdown",
   "id": "85aad694",
   "metadata": {},
   "source": [
    "### Ejercicio 2:"
   ]
  },
  {
   "cell_type": "code",
   "execution_count": 76,
   "id": "484eacde",
   "metadata": {},
   "outputs": [],
   "source": [
    "# regresion lineal hold out 2/3, 1/3"
   ]
  },
  {
   "cell_type": "code",
   "execution_count": 77,
   "id": "763578ea",
   "metadata": {},
   "outputs": [
    {
     "data": {
      "text/plain": [
       "0            path\n",
       "1         foliage\n",
       "2             sky\n",
       "3            path\n",
       "4            path\n",
       "          ...    \n",
       "2305    brickface\n",
       "2306          sky\n",
       "2307       cement\n",
       "2308      foliage\n",
       "2309    brickface\n",
       "Name: class, Length: 2310, dtype: object"
      ]
     },
     "execution_count": 77,
     "metadata": {},
     "output_type": "execute_result"
    }
   ],
   "source": [
    "# Y es el objetivo, la clase\n",
    "\n",
    "y = data[\"class\"]\n",
    "y"
   ]
  },
  {
   "cell_type": "code",
   "execution_count": 78,
   "id": "d7658082",
   "metadata": {},
   "outputs": [
    {
     "data": {
      "text/plain": [
       "((2310, 19),\n",
       " (2310, 19),\n",
       " array([0., 0., 0., 0., 0., 0., 0., 0., 0., 0., 0., 0., 0., 0., 0., 0., 0.,\n",
       "        0., 0.]),\n",
       " array([1., 1., 0., 1., 1., 1., 1., 1., 1., 1., 1., 1., 1., 1., 1., 1., 1.,\n",
       "        1., 1.]))"
      ]
     },
     "execution_count": 78,
     "metadata": {},
     "output_type": "execute_result"
    }
   ],
   "source": [
    "escala = MinMaxScaler()  # transformamos a intervalo (0,1)\n",
    "X = data.drop(columns=[\"class\"])\n",
    "X = escala.fit_transform(X)\n",
    "clase = data.drop(columns=[\"class\"])\n",
    "clase.shape, X.shape, np.min(X,axis=0), np.max(X,axis=0) #combprobación de escalado."
   ]
  },
  {
   "cell_type": "code",
   "execution_count": 79,
   "id": "57590ec2",
   "metadata": {},
   "outputs": [
    {
     "data": {
      "text/plain": [
       "array([[0., 0., 0., ..., 1., 0., 0.],\n",
       "       [0., 0., 1., ..., 0., 0., 0.],\n",
       "       [0., 0., 0., ..., 0., 1., 0.],\n",
       "       ...,\n",
       "       [0., 1., 0., ..., 0., 0., 0.],\n",
       "       [0., 0., 1., ..., 0., 0., 0.],\n",
       "       [1., 0., 0., ..., 0., 0., 0.]])"
      ]
     },
     "execution_count": 79,
     "metadata": {},
     "output_type": "execute_result"
    }
   ],
   "source": [
    "y_binario = LabelBinarizer().fit_transform(y)\n",
    "y_binario.astype(float)"
   ]
  },
  {
   "cell_type": "code",
   "execution_count": 80,
   "id": "bb069188",
   "metadata": {},
   "outputs": [],
   "source": [
    "X_train, X_test, y_train, y_test = train_test_split(X, y_binario, test_size=1/3, stratify=y_binario, random_state=0)\n"
   ]
  },
  {
   "cell_type": "code",
   "execution_count": 81,
   "id": "2a7723c5",
   "metadata": {},
   "outputs": [
    {
     "data": {
      "text/plain": [
       "((1540, 19), (770, 19), (1540, 7), (770, 7))"
      ]
     },
     "execution_count": 81,
     "metadata": {},
     "output_type": "execute_result"
    }
   ],
   "source": [
    "X_train.shape, X_test.shape, y_train.shape, y_test.shape\n"
   ]
  },
  {
   "cell_type": "code",
   "execution_count": 84,
   "id": "f2b9de7f",
   "metadata": {},
   "outputs": [
    {
     "data": {
      "text/plain": [
       "770"
      ]
     },
     "execution_count": 84,
     "metadata": {},
     "output_type": "execute_result"
    }
   ],
   "source": [
    "\n",
    "y_predict = np.zeros(y_test.shape)\n",
    "#con esto voy poniendo a 1 la columna que corresponde al valor asociado a la clase anteriormente mediante labelBinarizer.\n",
    "for i in range (y_train.shape[1]):\n",
    "    model = LinearRegression()\n",
    "    model.fit(X_train, y_train[:,i])\n",
    "    y_predict[:,i] = model.predict(X_test)\n",
    "y_test.shape[0]"
   ]
  },
  {
   "cell_type": "code",
   "execution_count": 85,
   "id": "9793fcc1",
   "metadata": {},
   "outputs": [
    {
     "data": {
      "text/plain": [
       "array([[ 0.10558569,  0.21820016, -0.06236197, ...,  0.24741115,\n",
       "         0.69440921, -0.12032336],\n",
       "       [ 0.02989432,  0.16954174,  0.0799653 , ...,  0.40564948,\n",
       "         0.13505761,  0.1749463 ],\n",
       "       [ 0.29976794,  0.18358958,  0.09322737, ...,  0.14863849,\n",
       "        -0.0102247 ,  0.19818212],\n",
       "       ...,\n",
       "       [-0.08011771,  0.18327264, -0.1458935 , ...,  0.25335999,\n",
       "         0.86601057, -0.0634468 ],\n",
       "       [ 0.28045593,  0.18639295,  0.18050684, ...,  0.03837892,\n",
       "         0.09195144,  0.2114863 ],\n",
       "       [ 0.2501261 ,  0.15608622,  0.04831618, ...,  0.03726147,\n",
       "        -0.10536121,  0.30380139]])"
      ]
     },
     "execution_count": 85,
     "metadata": {},
     "output_type": "execute_result"
    }
   ],
   "source": [
    "y_predict"
   ]
  },
  {
   "cell_type": "code",
   "execution_count": 86,
   "id": "7e32e898",
   "metadata": {},
   "outputs": [
    {
     "name": "stdout",
     "output_type": "stream",
     "text": [
      "Tasa de aciertos = 0.7363636363636363\n"
     ]
    }
   ],
   "source": [
    "print(\"Tasa de aciertos =\",np.sum(np.argmax(y_predict, axis=1) == np.argmax(y_test, axis=1))/y_test.shape[0])\n"
   ]
  },
  {
   "cell_type": "code",
   "execution_count": 66,
   "id": "0d1edbea",
   "metadata": {},
   "outputs": [
    {
     "name": "stdout",
     "output_type": "stream",
     "text": [
      "\n",
      "Matriz de Confusión:\n",
      " [[108   0   2   0   0   0   0]\n",
      " [ 24  36   3   0  26   0  21]\n",
      " [  1   3  95   0   0   0  11]\n",
      " [  0   0   0 110   0   0   0]\n",
      " [  0   0   0   0 110   0   0]\n",
      " [  0   0   0   0   0 110   0]\n",
      " [  1   4  31   0   0   0  74]]\n"
     ]
    }
   ],
   "source": [
    "print(\"\\nMatriz de Confusión:\\n\", confusion_matrix(np.argmax(y_test, axis=1), np.argmax(y_predict, axis=1)))\n"
   ]
  },
  {
   "cell_type": "markdown",
   "id": "181317bf",
   "metadata": {},
   "source": [
    "### Ejercicio 3:"
   ]
  },
  {
   "cell_type": "code",
   "execution_count": 13,
   "id": "7d59b4f9",
   "metadata": {},
   "outputs": [],
   "source": [
    "# En este caso me pide lo mismo pero con estratificación, entonces usaré la función StratifiedKFold() de sklearn"
   ]
  },
  {
   "cell_type": "code",
   "execution_count": 89,
   "id": "6ed7d3be",
   "metadata": {},
   "outputs": [
    {
     "name": "stdout",
     "output_type": "stream",
     "text": [
      "La tasa de error de cada uno de los 10 pliegues es: \n",
      "\n",
      "0.14285714285714285\n",
      "0.14285714285714285\n",
      "0.14285714285714285\n",
      "0.14285714285714285\n",
      "0.14285714285714285\n",
      "0.14285714285714285\n",
      "0.14285714285714285\n",
      "0.14285714285714285\n",
      "0.14285714285714285\n",
      "0.14285714285714285\n"
     ]
    }
   ],
   "source": [
    "precision = 0\n",
    "cv = StratifiedKFold(n_splits=10)\n",
    "print(\"La tasa de error de cada uno de los 10 pliegues es: \\n\")\n",
    "for train_index, test_index in cv.split(X,y):\n",
    "    X_train, X_test = X[train_index], X[test_index]\n",
    "    y_train, y_test = y_binario[train_index], y_binario[test_index]\n",
    "    y_predict = np.zeros(y_test.shape)\n",
    "    for i in range(y_train.shape[1]):\n",
    "        lr = SGDRegressor()\n",
    "        lr.fit(X_train, y_train[:,i])\n",
    "        y_predict[:,i] = lr.predict(X_test)\n",
    "    print(np.sum(np.argmax(y_predict, axis=1) == np.argmax(y_test, axis=1))/y_test.shape[0])\n",
    "    precision += np.sum(np.argmax(y_predict, axis=1) == np.argmax(y_test, axis=1))/y_test.shape[0]\n",
    "\n"
   ]
  },
  {
   "cell_type": "code",
   "execution_count": 18,
   "id": "551cd4c6",
   "metadata": {},
   "outputs": [
    {
     "name": "stdout",
     "output_type": "stream",
     "text": [
      "\n",
      "La media de las tasas de error:  0.8463203463203464\n"
     ]
    }
   ],
   "source": [
    "print(\"\\nLa media de las tasas de error: \", precision/10)"
   ]
  },
  {
   "cell_type": "markdown",
   "id": "4b2df22b",
   "metadata": {},
   "source": [
    "### Ejercicio 4:"
   ]
  },
  {
   "cell_type": "code",
   "execution_count": 16,
   "id": "fe60bd7b",
   "metadata": {},
   "outputs": [],
   "source": [
    "# Vamos a realizar lo mismo que en los ejercicios anteriores pero para regresión logística. \n",
    "# Primero con Hold-out y luego con cross-validation"
   ]
  },
  {
   "cell_type": "markdown",
   "id": "bf9d0265",
   "metadata": {},
   "source": [
    "#### HOLD-OUT"
   ]
  },
  {
   "cell_type": "code",
   "execution_count": 17,
   "id": "8ac9c49d",
   "metadata": {},
   "outputs": [],
   "source": [
    "X_train, X_test, y_train, y_test = train_test_split(X, y, test_size = 1./3., random_state=0, stratify=y)"
   ]
  },
  {
   "cell_type": "code",
   "execution_count": 90,
   "id": "18daa4d1",
   "metadata": {},
   "outputs": [
    {
     "ename": "ValueError",
     "evalue": "y should be a 1d array, got an array of shape (2079, 7) instead.",
     "output_type": "error",
     "traceback": [
      "\u001b[1;31m---------------------------------------------------------------------------\u001b[0m",
      "\u001b[1;31mValueError\u001b[0m                                Traceback (most recent call last)",
      "\u001b[1;32m~\\AppData\\Local\\Temp\\ipykernel_21824\\2184935133.py\u001b[0m in \u001b[0;36m<module>\u001b[1;34m\u001b[0m\n\u001b[0;32m      1\u001b[0m \u001b[0mget_ipython\u001b[0m\u001b[1;33m(\u001b[0m\u001b[1;33m)\u001b[0m\u001b[1;33m.\u001b[0m\u001b[0mrun_line_magic\u001b[0m\u001b[1;33m(\u001b[0m\u001b[1;34m'pinfo'\u001b[0m\u001b[1;33m,\u001b[0m \u001b[1;34m'LogisticRegression'\u001b[0m\u001b[1;33m)\u001b[0m\u001b[1;33m\u001b[0m\u001b[1;33m\u001b[0m\u001b[0m\n\u001b[1;32m----> 2\u001b[1;33m \u001b[0mlr\u001b[0m\u001b[1;33m.\u001b[0m\u001b[0mfit\u001b[0m\u001b[1;33m(\u001b[0m\u001b[0mX_train\u001b[0m\u001b[1;33m,\u001b[0m \u001b[0my_train\u001b[0m\u001b[1;33m)\u001b[0m\u001b[1;33m\u001b[0m\u001b[1;33m\u001b[0m\u001b[0m\n\u001b[0m",
      "\u001b[1;32m~\\anaconda3\\lib\\site-packages\\sklearn\\linear_model\\_stochastic_gradient.py\u001b[0m in \u001b[0;36mfit\u001b[1;34m(self, X, y, coef_init, intercept_init, sample_weight)\u001b[0m\n\u001b[0;32m   1535\u001b[0m             \u001b[0mFitted\u001b[0m\u001b[0;31m \u001b[0m\u001b[0;31m`\u001b[0m\u001b[0mSGDRegressor\u001b[0m\u001b[0;31m`\u001b[0m \u001b[0mestimator\u001b[0m\u001b[1;33m.\u001b[0m\u001b[1;33m\u001b[0m\u001b[1;33m\u001b[0m\u001b[0m\n\u001b[0;32m   1536\u001b[0m         \"\"\"\n\u001b[1;32m-> 1537\u001b[1;33m         return self._fit(\n\u001b[0m\u001b[0;32m   1538\u001b[0m             \u001b[0mX\u001b[0m\u001b[1;33m,\u001b[0m\u001b[1;33m\u001b[0m\u001b[1;33m\u001b[0m\u001b[0m\n\u001b[0;32m   1539\u001b[0m             \u001b[0my\u001b[0m\u001b[1;33m,\u001b[0m\u001b[1;33m\u001b[0m\u001b[1;33m\u001b[0m\u001b[0m\n",
      "\u001b[1;32m~\\anaconda3\\lib\\site-packages\\sklearn\\linear_model\\_stochastic_gradient.py\u001b[0m in \u001b[0;36m_fit\u001b[1;34m(self, X, y, alpha, C, loss, learning_rate, coef_init, intercept_init, sample_weight)\u001b[0m\n\u001b[0;32m   1483\u001b[0m         \u001b[0mself\u001b[0m\u001b[1;33m.\u001b[0m\u001b[0mt_\u001b[0m \u001b[1;33m=\u001b[0m \u001b[1;36m1.0\u001b[0m\u001b[1;33m\u001b[0m\u001b[1;33m\u001b[0m\u001b[0m\n\u001b[0;32m   1484\u001b[0m \u001b[1;33m\u001b[0m\u001b[0m\n\u001b[1;32m-> 1485\u001b[1;33m         self._partial_fit(\n\u001b[0m\u001b[0;32m   1486\u001b[0m             \u001b[0mX\u001b[0m\u001b[1;33m,\u001b[0m\u001b[1;33m\u001b[0m\u001b[1;33m\u001b[0m\u001b[0m\n\u001b[0;32m   1487\u001b[0m             \u001b[0my\u001b[0m\u001b[1;33m,\u001b[0m\u001b[1;33m\u001b[0m\u001b[1;33m\u001b[0m\u001b[0m\n",
      "\u001b[1;32m~\\anaconda3\\lib\\site-packages\\sklearn\\linear_model\\_stochastic_gradient.py\u001b[0m in \u001b[0;36m_partial_fit\u001b[1;34m(self, X, y, alpha, C, loss, learning_rate, max_iter, sample_weight, coef_init, intercept_init)\u001b[0m\n\u001b[0;32m   1390\u001b[0m     ):\n\u001b[0;32m   1391\u001b[0m         \u001b[0mfirst_call\u001b[0m \u001b[1;33m=\u001b[0m \u001b[0mgetattr\u001b[0m\u001b[1;33m(\u001b[0m\u001b[0mself\u001b[0m\u001b[1;33m,\u001b[0m \u001b[1;34m\"coef_\"\u001b[0m\u001b[1;33m,\u001b[0m \u001b[1;32mNone\u001b[0m\u001b[1;33m)\u001b[0m \u001b[1;32mis\u001b[0m \u001b[1;32mNone\u001b[0m\u001b[1;33m\u001b[0m\u001b[1;33m\u001b[0m\u001b[0m\n\u001b[1;32m-> 1392\u001b[1;33m         X, y = self._validate_data(\n\u001b[0m\u001b[0;32m   1393\u001b[0m             \u001b[0mX\u001b[0m\u001b[1;33m,\u001b[0m\u001b[1;33m\u001b[0m\u001b[1;33m\u001b[0m\u001b[0m\n\u001b[0;32m   1394\u001b[0m             \u001b[0my\u001b[0m\u001b[1;33m,\u001b[0m\u001b[1;33m\u001b[0m\u001b[1;33m\u001b[0m\u001b[0m\n",
      "\u001b[1;32m~\\anaconda3\\lib\\site-packages\\sklearn\\base.py\u001b[0m in \u001b[0;36m_validate_data\u001b[1;34m(self, X, y, reset, validate_separately, **check_params)\u001b[0m\n\u001b[0;32m    579\u001b[0m                 \u001b[0my\u001b[0m \u001b[1;33m=\u001b[0m \u001b[0mcheck_array\u001b[0m\u001b[1;33m(\u001b[0m\u001b[0my\u001b[0m\u001b[1;33m,\u001b[0m \u001b[1;33m**\u001b[0m\u001b[0mcheck_y_params\u001b[0m\u001b[1;33m)\u001b[0m\u001b[1;33m\u001b[0m\u001b[1;33m\u001b[0m\u001b[0m\n\u001b[0;32m    580\u001b[0m             \u001b[1;32melse\u001b[0m\u001b[1;33m:\u001b[0m\u001b[1;33m\u001b[0m\u001b[1;33m\u001b[0m\u001b[0m\n\u001b[1;32m--> 581\u001b[1;33m                 \u001b[0mX\u001b[0m\u001b[1;33m,\u001b[0m \u001b[0my\u001b[0m \u001b[1;33m=\u001b[0m \u001b[0mcheck_X_y\u001b[0m\u001b[1;33m(\u001b[0m\u001b[0mX\u001b[0m\u001b[1;33m,\u001b[0m \u001b[0my\u001b[0m\u001b[1;33m,\u001b[0m \u001b[1;33m**\u001b[0m\u001b[0mcheck_params\u001b[0m\u001b[1;33m)\u001b[0m\u001b[1;33m\u001b[0m\u001b[1;33m\u001b[0m\u001b[0m\n\u001b[0m\u001b[0;32m    582\u001b[0m             \u001b[0mout\u001b[0m \u001b[1;33m=\u001b[0m \u001b[0mX\u001b[0m\u001b[1;33m,\u001b[0m \u001b[0my\u001b[0m\u001b[1;33m\u001b[0m\u001b[1;33m\u001b[0m\u001b[0m\n\u001b[0;32m    583\u001b[0m \u001b[1;33m\u001b[0m\u001b[0m\n",
      "\u001b[1;32m~\\anaconda3\\lib\\site-packages\\sklearn\\utils\\validation.py\u001b[0m in \u001b[0;36mcheck_X_y\u001b[1;34m(X, y, accept_sparse, accept_large_sparse, dtype, order, copy, force_all_finite, ensure_2d, allow_nd, multi_output, ensure_min_samples, ensure_min_features, y_numeric, estimator)\u001b[0m\n\u001b[0;32m    977\u001b[0m     )\n\u001b[0;32m    978\u001b[0m \u001b[1;33m\u001b[0m\u001b[0m\n\u001b[1;32m--> 979\u001b[1;33m     \u001b[0my\u001b[0m \u001b[1;33m=\u001b[0m \u001b[0m_check_y\u001b[0m\u001b[1;33m(\u001b[0m\u001b[0my\u001b[0m\u001b[1;33m,\u001b[0m \u001b[0mmulti_output\u001b[0m\u001b[1;33m=\u001b[0m\u001b[0mmulti_output\u001b[0m\u001b[1;33m,\u001b[0m \u001b[0my_numeric\u001b[0m\u001b[1;33m=\u001b[0m\u001b[0my_numeric\u001b[0m\u001b[1;33m)\u001b[0m\u001b[1;33m\u001b[0m\u001b[1;33m\u001b[0m\u001b[0m\n\u001b[0m\u001b[0;32m    980\u001b[0m \u001b[1;33m\u001b[0m\u001b[0m\n\u001b[0;32m    981\u001b[0m     \u001b[0mcheck_consistent_length\u001b[0m\u001b[1;33m(\u001b[0m\u001b[0mX\u001b[0m\u001b[1;33m,\u001b[0m \u001b[0my\u001b[0m\u001b[1;33m)\u001b[0m\u001b[1;33m\u001b[0m\u001b[1;33m\u001b[0m\u001b[0m\n",
      "\u001b[1;32m~\\anaconda3\\lib\\site-packages\\sklearn\\utils\\validation.py\u001b[0m in \u001b[0;36m_check_y\u001b[1;34m(y, multi_output, y_numeric)\u001b[0m\n\u001b[0;32m    991\u001b[0m         )\n\u001b[0;32m    992\u001b[0m     \u001b[1;32melse\u001b[0m\u001b[1;33m:\u001b[0m\u001b[1;33m\u001b[0m\u001b[1;33m\u001b[0m\u001b[0m\n\u001b[1;32m--> 993\u001b[1;33m         \u001b[0my\u001b[0m \u001b[1;33m=\u001b[0m \u001b[0mcolumn_or_1d\u001b[0m\u001b[1;33m(\u001b[0m\u001b[0my\u001b[0m\u001b[1;33m,\u001b[0m \u001b[0mwarn\u001b[0m\u001b[1;33m=\u001b[0m\u001b[1;32mTrue\u001b[0m\u001b[1;33m)\u001b[0m\u001b[1;33m\u001b[0m\u001b[1;33m\u001b[0m\u001b[0m\n\u001b[0m\u001b[0;32m    994\u001b[0m         \u001b[0m_assert_all_finite\u001b[0m\u001b[1;33m(\u001b[0m\u001b[0my\u001b[0m\u001b[1;33m)\u001b[0m\u001b[1;33m\u001b[0m\u001b[1;33m\u001b[0m\u001b[0m\n\u001b[0;32m    995\u001b[0m         \u001b[0m_ensure_no_complex_data\u001b[0m\u001b[1;33m(\u001b[0m\u001b[0my\u001b[0m\u001b[1;33m)\u001b[0m\u001b[1;33m\u001b[0m\u001b[1;33m\u001b[0m\u001b[0m\n",
      "\u001b[1;32m~\\anaconda3\\lib\\site-packages\\sklearn\\utils\\validation.py\u001b[0m in \u001b[0;36mcolumn_or_1d\u001b[1;34m(y, warn)\u001b[0m\n\u001b[0;32m   1036\u001b[0m         \u001b[1;32mreturn\u001b[0m \u001b[0mnp\u001b[0m\u001b[1;33m.\u001b[0m\u001b[0mravel\u001b[0m\u001b[1;33m(\u001b[0m\u001b[0my\u001b[0m\u001b[1;33m)\u001b[0m\u001b[1;33m\u001b[0m\u001b[1;33m\u001b[0m\u001b[0m\n\u001b[0;32m   1037\u001b[0m \u001b[1;33m\u001b[0m\u001b[0m\n\u001b[1;32m-> 1038\u001b[1;33m     raise ValueError(\n\u001b[0m\u001b[0;32m   1039\u001b[0m         \u001b[1;34m\"y should be a 1d array, got an array of shape {} instead.\"\u001b[0m\u001b[1;33m.\u001b[0m\u001b[0mformat\u001b[0m\u001b[1;33m(\u001b[0m\u001b[0mshape\u001b[0m\u001b[1;33m)\u001b[0m\u001b[1;33m\u001b[0m\u001b[1;33m\u001b[0m\u001b[0m\n\u001b[0;32m   1040\u001b[0m     )\n",
      "\u001b[1;31mValueError\u001b[0m: y should be a 1d array, got an array of shape (2079, 7) instead."
     ]
    }
   ],
   "source": [
    "lr = LogisticRegression(random_state = 0, solver='lbfgs',multi_class='auto', max_iter= 500)\n",
    "lr.fit(X_train, y_train)"
   ]
  },
  {
   "cell_type": "code",
   "execution_count": 20,
   "id": "4fc3c3af",
   "metadata": {},
   "outputs": [],
   "source": [
    "accuracy = lr.score(X_test, y_test)"
   ]
  },
  {
   "cell_type": "code",
   "execution_count": 21,
   "id": "1af3f889",
   "metadata": {},
   "outputs": [
    {
     "name": "stdout",
     "output_type": "stream",
     "text": [
      "Tasa de aciertos por regresion logística:  0.8948051948051948\n"
     ]
    }
   ],
   "source": [
    "print(\"Tasa de aciertos por regresion logística: \", accuracy)"
   ]
  },
  {
   "cell_type": "code",
   "execution_count": 22,
   "id": "b3678333",
   "metadata": {},
   "outputs": [
    {
     "name": "stdout",
     "output_type": "stream",
     "text": [
      "\n",
      "Matriz de Confusión:\n",
      " [[105   0   0   0   0   0   5]\n",
      " [  2  94   2   0   8   0   4]\n",
      " [  5   5  87   0   0   0  13]\n",
      " [  0   0   0 110   0   0   0]\n",
      " [  0   0   0   0 110   0   0]\n",
      " [  0   0   0   0   0 110   0]\n",
      " [  1   4  32   0   0   0  73]]\n"
     ]
    }
   ],
   "source": [
    "X_accuracy = lr.predict(X_test)\n",
    "print(\"\\nMatriz de Confusión:\\n\", confusion_matrix(y_test,X_accuracy))"
   ]
  },
  {
   "cell_type": "markdown",
   "id": "6573b6ff",
   "metadata": {},
   "source": [
    "#### VALIDATION-CROSS"
   ]
  },
  {
   "cell_type": "code",
   "execution_count": 23,
   "id": "4153c14e",
   "metadata": {},
   "outputs": [],
   "source": [
    "rl = LogisticRegression(random_state=0, multi_class='auto', solver='lbfgs', max_iter=500)"
   ]
  },
  {
   "cell_type": "code",
   "execution_count": 24,
   "id": "5f62e079",
   "metadata": {},
   "outputs": [
    {
     "name": "stdout",
     "output_type": "stream",
     "text": [
      "La tasa de acierto para cada uno de los 10 pliegues es:\n",
      "0.9307359307359307\n",
      "0.9090909090909091\n",
      "0.9047619047619048\n",
      "0.9004329004329005\n",
      "0.9047619047619048\n",
      "0.9177489177489178\n",
      "0.8961038961038961\n",
      "0.8917748917748918\n",
      "0.9134199134199135\n",
      "0.8744588744588745\n",
      "\n",
      "Tasa de acierto:\n",
      "0.9043290043290044\n"
     ]
    }
   ],
   "source": [
    "tasa = 0\n",
    "K=10\n",
    "cv = StratifiedKFold(n_splits=K)\n",
    "i = 0\n",
    "print(\"La tasa de acierto para cada uno de los 10 pliegues es:\")\n",
    "for train_index, test_index in cv.split(X,y):\n",
    "    \n",
    "    X_train, X_test = X[train_index], X[test_index]\n",
    "    y_train, y_test = y[train_index], y[test_index]\n",
    "    \n",
    "    rl.fit(X_train, y_train)\n",
    "    print(rl.score(X_test, y_test))\n",
    "    i = i+1\n",
    "    tasa += rl.score(X_test, y_test)\n",
    "\n",
    "print(\"\\nTasa de acierto:\")\n",
    "print(tasa/K)"
   ]
  },
  {
   "cell_type": "code",
   "execution_count": null,
   "id": "4629c67f",
   "metadata": {},
   "outputs": [],
   "source": []
  },
  {
   "cell_type": "code",
   "execution_count": null,
   "id": "eb632fe7",
   "metadata": {},
   "outputs": [],
   "source": []
  }
 ],
 "metadata": {
  "kernelspec": {
   "display_name": "Python 3 (ipykernel)",
   "language": "python",
   "name": "python3"
  },
  "language_info": {
   "codemirror_mode": {
    "name": "ipython",
    "version": 3
   },
   "file_extension": ".py",
   "mimetype": "text/x-python",
   "name": "python",
   "nbconvert_exporter": "python",
   "pygments_lexer": "ipython3",
   "version": "3.9.13"
  }
 },
 "nbformat": 4,
 "nbformat_minor": 5
}
