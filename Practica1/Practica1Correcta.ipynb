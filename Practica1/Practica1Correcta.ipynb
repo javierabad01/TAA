{
 "cells": [
  {
   "cell_type": "markdown",
   "id": "d7423286",
   "metadata": {},
   "source": [
    "# Javier Abad Hernández - Práctica 1 TAA"
   ]
  },
  {
   "cell_type": "code",
   "execution_count": 2,
   "id": "dd24a587",
   "metadata": {},
   "outputs": [],
   "source": [
    "import pandas as pd\n",
    "import numpy as np\n",
    "from scipy.stats import entropy\n",
    "\n",
    "from math import log2"
   ]
  },
  {
   "cell_type": "code",
   "execution_count": 3,
   "id": "62624b18",
   "metadata": {},
   "outputs": [
    {
     "data": {
      "text/html": [
       "<div>\n",
       "<style scoped>\n",
       "    .dataframe tbody tr th:only-of-type {\n",
       "        vertical-align: middle;\n",
       "    }\n",
       "\n",
       "    .dataframe tbody tr th {\n",
       "        vertical-align: top;\n",
       "    }\n",
       "\n",
       "    .dataframe thead th {\n",
       "        text-align: right;\n",
       "    }\n",
       "</style>\n",
       "<table border=\"1\" class=\"dataframe\">\n",
       "  <thead>\n",
       "    <tr style=\"text-align: right;\">\n",
       "      <th></th>\n",
       "      <th>outlook</th>\n",
       "      <th>temperature</th>\n",
       "      <th>humidity</th>\n",
       "      <th>windy</th>\n",
       "      <th>play</th>\n",
       "    </tr>\n",
       "  </thead>\n",
       "  <tbody>\n",
       "    <tr>\n",
       "      <th>0</th>\n",
       "      <td>sunny</td>\n",
       "      <td>hot</td>\n",
       "      <td>high</td>\n",
       "      <td>False</td>\n",
       "      <td>no</td>\n",
       "    </tr>\n",
       "    <tr>\n",
       "      <th>1</th>\n",
       "      <td>sunny</td>\n",
       "      <td>hot</td>\n",
       "      <td>high</td>\n",
       "      <td>True</td>\n",
       "      <td>no</td>\n",
       "    </tr>\n",
       "    <tr>\n",
       "      <th>2</th>\n",
       "      <td>overcast</td>\n",
       "      <td>hot</td>\n",
       "      <td>high</td>\n",
       "      <td>False</td>\n",
       "      <td>yes</td>\n",
       "    </tr>\n",
       "    <tr>\n",
       "      <th>3</th>\n",
       "      <td>rainy</td>\n",
       "      <td>mild</td>\n",
       "      <td>high</td>\n",
       "      <td>False</td>\n",
       "      <td>yes</td>\n",
       "    </tr>\n",
       "    <tr>\n",
       "      <th>4</th>\n",
       "      <td>rainy</td>\n",
       "      <td>cool</td>\n",
       "      <td>normal</td>\n",
       "      <td>False</td>\n",
       "      <td>yes</td>\n",
       "    </tr>\n",
       "    <tr>\n",
       "      <th>5</th>\n",
       "      <td>rainy</td>\n",
       "      <td>cool</td>\n",
       "      <td>normal</td>\n",
       "      <td>True</td>\n",
       "      <td>no</td>\n",
       "    </tr>\n",
       "    <tr>\n",
       "      <th>6</th>\n",
       "      <td>overcast</td>\n",
       "      <td>cool</td>\n",
       "      <td>normal</td>\n",
       "      <td>True</td>\n",
       "      <td>yes</td>\n",
       "    </tr>\n",
       "    <tr>\n",
       "      <th>7</th>\n",
       "      <td>sunny</td>\n",
       "      <td>mild</td>\n",
       "      <td>high</td>\n",
       "      <td>False</td>\n",
       "      <td>no</td>\n",
       "    </tr>\n",
       "    <tr>\n",
       "      <th>8</th>\n",
       "      <td>sunny</td>\n",
       "      <td>cool</td>\n",
       "      <td>normal</td>\n",
       "      <td>False</td>\n",
       "      <td>yes</td>\n",
       "    </tr>\n",
       "    <tr>\n",
       "      <th>9</th>\n",
       "      <td>rainy</td>\n",
       "      <td>mild</td>\n",
       "      <td>normal</td>\n",
       "      <td>False</td>\n",
       "      <td>yes</td>\n",
       "    </tr>\n",
       "    <tr>\n",
       "      <th>10</th>\n",
       "      <td>sunny</td>\n",
       "      <td>mild</td>\n",
       "      <td>normal</td>\n",
       "      <td>True</td>\n",
       "      <td>yes</td>\n",
       "    </tr>\n",
       "    <tr>\n",
       "      <th>11</th>\n",
       "      <td>overcast</td>\n",
       "      <td>mild</td>\n",
       "      <td>high</td>\n",
       "      <td>True</td>\n",
       "      <td>yes</td>\n",
       "    </tr>\n",
       "    <tr>\n",
       "      <th>12</th>\n",
       "      <td>overcast</td>\n",
       "      <td>hot</td>\n",
       "      <td>normal</td>\n",
       "      <td>False</td>\n",
       "      <td>yes</td>\n",
       "    </tr>\n",
       "    <tr>\n",
       "      <th>13</th>\n",
       "      <td>rainy</td>\n",
       "      <td>mild</td>\n",
       "      <td>high</td>\n",
       "      <td>True</td>\n",
       "      <td>no</td>\n",
       "    </tr>\n",
       "  </tbody>\n",
       "</table>\n",
       "</div>"
      ],
      "text/plain": [
       "     outlook temperature humidity  windy play\n",
       "0      sunny         hot     high  False   no\n",
       "1      sunny         hot     high   True   no\n",
       "2   overcast         hot     high  False  yes\n",
       "3      rainy        mild     high  False  yes\n",
       "4      rainy        cool   normal  False  yes\n",
       "5      rainy        cool   normal   True   no\n",
       "6   overcast        cool   normal   True  yes\n",
       "7      sunny        mild     high  False   no\n",
       "8      sunny        cool   normal  False  yes\n",
       "9      rainy        mild   normal  False  yes\n",
       "10     sunny        mild   normal   True  yes\n",
       "11  overcast        mild     high   True  yes\n",
       "12  overcast         hot   normal  False  yes\n",
       "13     rainy        mild     high   True   no"
      ]
     },
     "execution_count": 3,
     "metadata": {},
     "output_type": "execute_result"
    }
   ],
   "source": [
    "# Cargar los datos\n",
    "data = pd.read_csv(\"weather.nominal.csv\")\n",
    "data"
   ]
  },
  {
   "cell_type": "code",
   "execution_count": 9,
   "id": "0918c7d2",
   "metadata": {},
   "outputs": [
    {
     "data": {
      "text/plain": [
       "yes    0.642857\n",
       "no     0.357143\n",
       "Name: play, dtype: float64"
      ]
     },
     "execution_count": 9,
     "metadata": {},
     "output_type": "execute_result"
    }
   ],
   "source": [
    "data.iloc[:, -1].value_counts(normalize=True)"
   ]
  },
  {
   "cell_type": "markdown",
   "id": "d8e26d17",
   "metadata": {},
   "source": [
    "#### Primero lo realizo con la entropía."
   ]
  },
  {
   "cell_type": "code",
   "execution_count": 12,
   "id": "de94aa31",
   "metadata": {},
   "outputs": [
    {
     "data": {
      "text/plain": [
       "0.940285958670631"
      ]
     },
     "execution_count": 12,
     "metadata": {},
     "output_type": "execute_result"
    }
   ],
   "source": [
    "# Calcular la entropía del conjunto de datos completo\n",
    "H = entropy(data.iloc[:, -1].value_counts(normalize=True), base=2)\n",
    "H"
   ]
  },
  {
   "cell_type": "code",
   "execution_count": 74,
   "id": "a7179f7d",
   "metadata": {},
   "outputs": [
    {
     "name": "stdout",
     "output_type": "stream",
     "text": [
      "Ganancia de información para outlook : 0.246749819774439\n",
      "Ganancia de información para temperature : 0.029222565658954758\n",
      "Ganancia de información para humidity : 0.15183550136234159\n",
      "Ganancia de información para windy : 0.04812703040826938\n"
     ]
    }
   ],
   "source": [
    "# Calcular la ganancia de información de cada atributo\n",
    "def info_gain(data, attribute):  # La información de ganancia es la entropia, menos la entropia media de cada uno de los subconjuntos\n",
    "    values, counts = np.unique(data[attribute], return_counts=True)\n",
    "    subsets = [data[data[attribute] == v] for v in values]\n",
    "    entropy_subsets = [entropy(subset.iloc[:, -1].value_counts(normalize=True), base=2) for subset in subsets]\n",
    "    probs = counts / len(data)\n",
    "    return H - np.sum(probs * entropy_subsets) # np.sum(probs * entropy_subsets) es el Resto(A) en los apuntes y H es I(D)\n",
    "atn,ath=[],[]\n",
    "for attributeH in data.columns[:-1]:\n",
    "    print(\"Ganancia de información para\", attributeH, \":\", info_gain(data, attributeH))\n",
    "    atn.append(attributeH)\n",
    "    ath.append(info_gain(data, attributeH))\n"
   ]
  },
  {
   "cell_type": "code",
   "execution_count": 75,
   "id": "85bd618b",
   "metadata": {},
   "outputs": [
    {
     "name": "stdout",
     "output_type": "stream",
     "text": [
      "\n",
      "El atributo con la ganancia máxima en información es: outlook con una ganancia en información de: 0.246749819774439 \n",
      "\n"
     ]
    }
   ],
   "source": [
    "# encontrar la ganancia máxima en información\n",
    "max_gain = 0\n",
    "best_attribute = None    \n",
    "for attribute in data.columns[:-1]:\n",
    "    gain = info_gain(data, attribute)\n",
    "    if gain > max_gain:\n",
    "        max_gain = gain\n",
    "        best_attribute = attribute\n",
    "\n",
    "print(\"\\nEl atributo con la ganancia máxima en información es:\", best_attribute, \"con una ganancia en información de:\", max_gain,\"\\n\")# Calcular el índice GINI de cada atributo"
   ]
  },
  {
   "cell_type": "markdown",
   "id": "a7bc4146",
   "metadata": {},
   "source": [
    "#### Segundo lo hago con GINI"
   ]
  },
  {
   "cell_type": "code",
   "execution_count": 85,
   "id": "520ce5f5",
   "metadata": {},
   "outputs": [
    {
     "name": "stdout",
     "output_type": "stream",
     "text": [
      "Indice GINI general:  0.4591836734693877\n",
      "Índice GINI para outlook : 0.11632653061224485\n",
      "Índice GINI para temperature : 0.018707482993197258\n",
      "Índice GINI para humidity : 0.09183673469387743\n",
      "Índice GINI para windy : 0.030612244897959162\n"
     ]
    }
   ],
   "source": [
    "def gini(data):\n",
    "    Gi = []\n",
    "    G_Gini = 1 - sum(data.iloc[:, -1].value_counts(normalize=True) ** 2)\n",
    "    l = len(data)\n",
    "    for atributo in data.columns[:-1]:\n",
    "        Gi.append(G_Gini)\n",
    "        for v in data[atributo].unique():\n",
    "            table = data.loc[data[atributo] == v]\n",
    "            Gi[-1] -= (len(table) / l) * (1 - sum(table.iloc[:, -1].value_counts(normalize=True) ** 2))\n",
    "    return Gi, G_Gini\n",
    "\n",
    "atg=[]\n",
    "print(\"Indice GINI general: \", G_Gini)\n",
    "for i in range (len(data.columns[:-1])):\n",
    "    print(\"Índice GINI para\", data.columns[i], \":\", Gi[i])\n",
    "    atg.append(Gi[i])\n",
    "    \n",
    "\n"
   ]
  },
  {
   "cell_type": "code",
   "execution_count": 86,
   "id": "13d6cb5c",
   "metadata": {},
   "outputs": [
    {
     "name": "stdout",
     "output_type": "stream",
     "text": [
      "Ganancia máxima en Información GINI = outlook con una ganancia en información de: 0.11632653061224485 \n",
      "\n"
     ]
    }
   ],
   "source": [
    "print(\"Ganancia máxima en Información GINI =\", data.columns[np.argmax(Gi)], \"con una ganancia en información de:\", np.amax(atg), \"\\n\")"
   ]
  },
  {
   "cell_type": "markdown",
   "id": "2b17e1fc",
   "metadata": {},
   "source": [
    "#### Tabla de comparación de resultados."
   ]
  },
  {
   "cell_type": "code",
   "execution_count": 88,
   "id": "f0f41826",
   "metadata": {},
   "outputs": [
    {
     "data": {
      "text/html": [
       "<div>\n",
       "<style scoped>\n",
       "    .dataframe tbody tr th:only-of-type {\n",
       "        vertical-align: middle;\n",
       "    }\n",
       "\n",
       "    .dataframe tbody tr th {\n",
       "        vertical-align: top;\n",
       "    }\n",
       "\n",
       "    .dataframe thead th {\n",
       "        text-align: right;\n",
       "    }\n",
       "</style>\n",
       "<table border=\"1\" class=\"dataframe\">\n",
       "  <thead>\n",
       "    <tr style=\"text-align: right;\">\n",
       "      <th></th>\n",
       "      <th>ENTROPY</th>\n",
       "      <th>GINI</th>\n",
       "    </tr>\n",
       "  </thead>\n",
       "  <tbody>\n",
       "    <tr>\n",
       "      <th>outlook</th>\n",
       "      <td>0.246750</td>\n",
       "      <td>0.116327</td>\n",
       "    </tr>\n",
       "    <tr>\n",
       "      <th>temperature</th>\n",
       "      <td>0.029223</td>\n",
       "      <td>0.018707</td>\n",
       "    </tr>\n",
       "    <tr>\n",
       "      <th>humidity</th>\n",
       "      <td>0.151836</td>\n",
       "      <td>0.091837</td>\n",
       "    </tr>\n",
       "    <tr>\n",
       "      <th>windy</th>\n",
       "      <td>0.048127</td>\n",
       "      <td>0.030612</td>\n",
       "    </tr>\n",
       "  </tbody>\n",
       "</table>\n",
       "</div>"
      ],
      "text/plain": [
       "              ENTROPY      GINI\n",
       "outlook      0.246750  0.116327\n",
       "temperature  0.029223  0.018707\n",
       "humidity     0.151836  0.091837\n",
       "windy        0.048127  0.030612"
      ]
     },
     "execution_count": 88,
     "metadata": {},
     "output_type": "execute_result"
    }
   ],
   "source": [
    "data2 = {'ENTROPY': ath, 'GINI': atg}\n",
    "df = pd.DataFrame(data2, index=[atn])\n",
    "df\n"
   ]
  },
  {
   "cell_type": "code",
   "execution_count": null,
   "id": "a07cae57",
   "metadata": {},
   "outputs": [],
   "source": []
  }
 ],
 "metadata": {
  "kernelspec": {
   "display_name": "Python 3 (ipykernel)",
   "language": "python",
   "name": "python3"
  },
  "language_info": {
   "codemirror_mode": {
    "name": "ipython",
    "version": 3
   },
   "file_extension": ".py",
   "mimetype": "text/x-python",
   "name": "python",
   "nbconvert_exporter": "python",
   "pygments_lexer": "ipython3",
   "version": "3.9.13"
  }
 },
 "nbformat": 4,
 "nbformat_minor": 5
}
