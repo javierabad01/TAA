{
 "cells": [
  {
   "cell_type": "code",
   "execution_count": 25,
   "id": "8e3b65fd",
   "metadata": {},
   "outputs": [],
   "source": [
    "from sklearn.datasets import load_breast_cancer\n",
    "from sklearn.preprocessing import MinMaxScaler\n",
    "from sklearn.metrics import accuracy_score\n",
    "\n",
    "from sklearn.model_selection import StratifiedKFold\n",
    "from sklearn.cluster import KMeans\n",
    "from sklearn.metrics.pairwise import euclidean_distances\n",
    "from sklearn.svm import SVC\n",
    "\n",
    "import numpy as np\n",
    "from scipy.stats import mode\n",
    "import matplotlib.pyplot as plt\n",
    "import pandas as pd\n",
    "\n",
    "import time\n",
    "from tqdm import tqdm\n",
    "import warnings\n"
   ]
  },
  {
   "cell_type": "code",
   "execution_count": 26,
   "id": "60e56b1b",
   "metadata": {},
   "outputs": [],
   "source": [
    "data = load_breast_cancer()"
   ]
  },
  {
   "cell_type": "code",
   "execution_count": 27,
   "id": "bf728229",
   "metadata": {},
   "outputs": [],
   "source": [
    "warnings.filterwarnings(\"ignore\")"
   ]
  },
  {
   "cell_type": "code",
   "execution_count": 28,
   "id": "30793d81",
   "metadata": {},
   "outputs": [
    {
     "data": {
      "text/plain": [
       "((569, 30), (569,))"
      ]
     },
     "execution_count": 28,
     "metadata": {},
     "output_type": "execute_result"
    }
   ],
   "source": [
    "# Normalizar\n",
    "X = MinMaxScaler().fit_transform(data.data)\n",
    "y = data.target\n",
    "\n",
    "X.shape, y.shape"
   ]
  },
  {
   "cell_type": "code",
   "execution_count": 29,
   "id": "92f4d0ac",
   "metadata": {},
   "outputs": [],
   "source": [
    "# Creación de 10 particiones para realizar validación cruzada\n",
    "K=10\n",
    "skf = StratifiedKFold(n_splits=K, shuffle=True, random_state=0)"
   ]
  },
  {
   "cell_type": "code",
   "execution_count": 34,
   "id": "8a0382a9",
   "metadata": {},
   "outputs": [
    {
     "name": "stderr",
     "output_type": "stream",
     "text": [
      "100%|█████████████████████████████████████████████████████████████████████████| 29/29 [00:39<00:00,  1.37s/ n_clusters]"
     ]
    },
    {
     "name": "stdout",
     "output_type": "stream",
     "text": [
      "Tiempo = 39.79794979095459 sec.\n"
     ]
    },
    {
     "name": "stderr",
     "output_type": "stream",
     "text": [
      "\n"
     ]
    }
   ],
   "source": [
    "inicial = time.time()\n",
    "r_centros = pd.DataFrame(columns=['No.Centros', 'Aciertos Entrena', 'Aciertos Verifica'])\n",
    "for a, k in tqdm(enumerate(range(2,31,1)), total=29, unit=\" n_clusters\" ):\n",
    "    aciertos_entrena = 0.0\n",
    "    aciertos_verifica = 0.0\n",
    "    \n",
    "    for train_index, test_index in skf.split(X,y):\n",
    "        kmedias = KMeans(n_clusters=k)\n",
    "        \n",
    "        X_train = X[train_index]\n",
    "        y_train = y[train_index]\n",
    "        X_test = X[test_index]\n",
    "        y_test = y[test_index]\n",
    "        kmedias.fit(X_train)\n",
    "        label_training = kmedias.labels_\n",
    "        label_cluster = np.zeros((k,), dtype=int) -1\n",
    "        for i in range(k):\n",
    "            label_cluster[i] = np.array(mode(y_train[np.argwhere(label_training == i)]))[0].astype(int)\n",
    "        aciertos_entrena += accuracy_score(label_cluster[label_training], y_train)\n",
    "        aciertos_verifica += accuracy_score(label_cluster[kmedias.predict(X_test)], y_test)\n",
    "    r_centros.loc[a] = [k, aciertos_entrena/K, aciertos_verifica/K]\n",
    "elapsed_time = time.time() - inicial\n",
    "print(\"Tiempo =\", elapsed_time, \"sec.\")\n"
   ]
  },
  {
   "cell_type": "code",
   "execution_count": 35,
   "id": "3500d025",
   "metadata": {},
   "outputs": [
    {
     "data": {
      "text/html": [
       "<div>\n",
       "<style scoped>\n",
       "    .dataframe tbody tr th:only-of-type {\n",
       "        vertical-align: middle;\n",
       "    }\n",
       "\n",
       "    .dataframe tbody tr th {\n",
       "        vertical-align: top;\n",
       "    }\n",
       "\n",
       "    .dataframe thead th {\n",
       "        text-align: right;\n",
       "    }\n",
       "</style>\n",
       "<table border=\"1\" class=\"dataframe\">\n",
       "  <thead>\n",
       "    <tr style=\"text-align: right;\">\n",
       "      <th></th>\n",
       "      <th>No.Centros</th>\n",
       "      <th>Aciertos Entrena</th>\n",
       "      <th>Aciertos Verifica</th>\n",
       "    </tr>\n",
       "  </thead>\n",
       "  <tbody>\n",
       "    <tr>\n",
       "      <th>0</th>\n",
       "      <td>2.0</td>\n",
       "      <td>0.926576</td>\n",
       "      <td>0.927882</td>\n",
       "    </tr>\n",
       "    <tr>\n",
       "      <th>1</th>\n",
       "      <td>3.0</td>\n",
       "      <td>0.903339</td>\n",
       "      <td>0.899781</td>\n",
       "    </tr>\n",
       "    <tr>\n",
       "      <th>2</th>\n",
       "      <td>4.0</td>\n",
       "      <td>0.893578</td>\n",
       "      <td>0.892763</td>\n",
       "    </tr>\n",
       "    <tr>\n",
       "      <th>3</th>\n",
       "      <td>5.0</td>\n",
       "      <td>0.924428</td>\n",
       "      <td>0.926159</td>\n",
       "    </tr>\n",
       "    <tr>\n",
       "      <th>4</th>\n",
       "      <td>6.0</td>\n",
       "      <td>0.885960</td>\n",
       "      <td>0.883991</td>\n",
       "    </tr>\n",
       "    <tr>\n",
       "      <th>5</th>\n",
       "      <td>7.0</td>\n",
       "      <td>0.913888</td>\n",
       "      <td>0.912061</td>\n",
       "    </tr>\n",
       "    <tr>\n",
       "      <th>6</th>\n",
       "      <td>8.0</td>\n",
       "      <td>0.915840</td>\n",
       "      <td>0.901598</td>\n",
       "    </tr>\n",
       "    <tr>\n",
       "      <th>7</th>\n",
       "      <td>9.0</td>\n",
       "      <td>0.928144</td>\n",
       "      <td>0.912093</td>\n",
       "    </tr>\n",
       "    <tr>\n",
       "      <th>8</th>\n",
       "      <td>10.0</td>\n",
       "      <td>0.931849</td>\n",
       "      <td>0.915727</td>\n",
       "    </tr>\n",
       "    <tr>\n",
       "      <th>9</th>\n",
       "      <td>11.0</td>\n",
       "      <td>0.934781</td>\n",
       "      <td>0.924405</td>\n",
       "    </tr>\n",
       "    <tr>\n",
       "      <th>10</th>\n",
       "      <td>12.0</td>\n",
       "      <td>0.938686</td>\n",
       "      <td>0.948966</td>\n",
       "    </tr>\n",
       "    <tr>\n",
       "      <th>11</th>\n",
       "      <td>13.0</td>\n",
       "      <td>0.933994</td>\n",
       "      <td>0.933208</td>\n",
       "    </tr>\n",
       "    <tr>\n",
       "      <th>12</th>\n",
       "      <td>14.0</td>\n",
       "      <td>0.940833</td>\n",
       "      <td>0.941917</td>\n",
       "    </tr>\n",
       "    <tr>\n",
       "      <th>13</th>\n",
       "      <td>15.0</td>\n",
       "      <td>0.943372</td>\n",
       "      <td>0.934962</td>\n",
       "    </tr>\n",
       "    <tr>\n",
       "      <th>14</th>\n",
       "      <td>16.0</td>\n",
       "      <td>0.950398</td>\n",
       "      <td>0.942043</td>\n",
       "    </tr>\n",
       "    <tr>\n",
       "      <th>15</th>\n",
       "      <td>17.0</td>\n",
       "      <td>0.946300</td>\n",
       "      <td>0.950721</td>\n",
       "    </tr>\n",
       "    <tr>\n",
       "      <th>16</th>\n",
       "      <td>18.0</td>\n",
       "      <td>0.948840</td>\n",
       "      <td>0.955984</td>\n",
       "    </tr>\n",
       "    <tr>\n",
       "      <th>17</th>\n",
       "      <td>19.0</td>\n",
       "      <td>0.949817</td>\n",
       "      <td>0.952569</td>\n",
       "    </tr>\n",
       "    <tr>\n",
       "      <th>18</th>\n",
       "      <td>20.0</td>\n",
       "      <td>0.948251</td>\n",
       "      <td>0.943766</td>\n",
       "    </tr>\n",
       "    <tr>\n",
       "      <th>19</th>\n",
       "      <td>21.0</td>\n",
       "      <td>0.950204</td>\n",
       "      <td>0.949029</td>\n",
       "    </tr>\n",
       "    <tr>\n",
       "      <th>20</th>\n",
       "      <td>22.0</td>\n",
       "      <td>0.949625</td>\n",
       "      <td>0.948966</td>\n",
       "    </tr>\n",
       "    <tr>\n",
       "      <th>21</th>\n",
       "      <td>23.0</td>\n",
       "      <td>0.948445</td>\n",
       "      <td>0.956046</td>\n",
       "    </tr>\n",
       "    <tr>\n",
       "      <th>22</th>\n",
       "      <td>24.0</td>\n",
       "      <td>0.952940</td>\n",
       "      <td>0.957801</td>\n",
       "    </tr>\n",
       "    <tr>\n",
       "      <th>23</th>\n",
       "      <td>25.0</td>\n",
       "      <td>0.950203</td>\n",
       "      <td>0.945489</td>\n",
       "    </tr>\n",
       "    <tr>\n",
       "      <th>24</th>\n",
       "      <td>26.0</td>\n",
       "      <td>0.944739</td>\n",
       "      <td>0.954292</td>\n",
       "    </tr>\n",
       "    <tr>\n",
       "      <th>25</th>\n",
       "      <td>27.0</td>\n",
       "      <td>0.953329</td>\n",
       "      <td>0.961310</td>\n",
       "    </tr>\n",
       "    <tr>\n",
       "      <th>26</th>\n",
       "      <td>28.0</td>\n",
       "      <td>0.952157</td>\n",
       "      <td>0.952506</td>\n",
       "    </tr>\n",
       "    <tr>\n",
       "      <th>27</th>\n",
       "      <td>29.0</td>\n",
       "      <td>0.950792</td>\n",
       "      <td>0.954292</td>\n",
       "    </tr>\n",
       "    <tr>\n",
       "      <th>28</th>\n",
       "      <td>30.0</td>\n",
       "      <td>0.956065</td>\n",
       "      <td>0.956015</td>\n",
       "    </tr>\n",
       "  </tbody>\n",
       "</table>\n",
       "</div>"
      ],
      "text/plain": [
       "    No.Centros  Aciertos Entrena  Aciertos Verifica\n",
       "0          2.0          0.926576           0.927882\n",
       "1          3.0          0.903339           0.899781\n",
       "2          4.0          0.893578           0.892763\n",
       "3          5.0          0.924428           0.926159\n",
       "4          6.0          0.885960           0.883991\n",
       "5          7.0          0.913888           0.912061\n",
       "6          8.0          0.915840           0.901598\n",
       "7          9.0          0.928144           0.912093\n",
       "8         10.0          0.931849           0.915727\n",
       "9         11.0          0.934781           0.924405\n",
       "10        12.0          0.938686           0.948966\n",
       "11        13.0          0.933994           0.933208\n",
       "12        14.0          0.940833           0.941917\n",
       "13        15.0          0.943372           0.934962\n",
       "14        16.0          0.950398           0.942043\n",
       "15        17.0          0.946300           0.950721\n",
       "16        18.0          0.948840           0.955984\n",
       "17        19.0          0.949817           0.952569\n",
       "18        20.0          0.948251           0.943766\n",
       "19        21.0          0.950204           0.949029\n",
       "20        22.0          0.949625           0.948966\n",
       "21        23.0          0.948445           0.956046\n",
       "22        24.0          0.952940           0.957801\n",
       "23        25.0          0.950203           0.945489\n",
       "24        26.0          0.944739           0.954292\n",
       "25        27.0          0.953329           0.961310\n",
       "26        28.0          0.952157           0.952506\n",
       "27        29.0          0.950792           0.954292\n",
       "28        30.0          0.956065           0.956015"
      ]
     },
     "execution_count": 35,
     "metadata": {},
     "output_type": "execute_result"
    }
   ],
   "source": [
    "r_centros"
   ]
  },
  {
   "cell_type": "code",
   "execution_count": 36,
   "id": "046267c1",
   "metadata": {},
   "outputs": [
    {
     "data": {
      "image/png": "[encoded data removed]",
      "text/plain": [
       "<Figure size 1000x600 with 1 Axes>"
      ]
     },
     "metadata": {},
     "output_type": "display_data"
    }
   ],
   "source": [
    "import matplotlib.pyplot as plt\n",
    "plt.figure(figsize=(10,6))\n",
    "plt.plot(r_centros['No.Centros'], r_centros['Aciertos Entrena'], label='Training Accuracy')\n",
    "plt.plot(r_centros['No.Centros'], r_centros['Aciertos Verifica'], label='Verification Accuracy')\n",
    "plt.xlabel('Number of Centers')\n",
    "plt.ylabel('Accuracy')\n",
    "plt.legend()\n",
    "plt.grid(True)\n",
    "plt.show()\n"
   ]
  },
  {
   "cell_type": "code",
   "execution_count": 37,
   "id": "7c1a9288",
   "metadata": {},
   "outputs": [
    {
     "name": "stdout",
     "output_type": "stream",
     "text": [
      "La mayor tasa de acierto de verificación es con 27 clusters, siendo de: 0.961309523809524\n"
     ]
    }
   ],
   "source": [
    "# Find the row with the highest verification accuracy\n",
    "best_row = r_centros.loc[r_centros['Aciertos Verifica'].idxmax()]\n",
    "\n",
    "# Get the number of centers for that row\n",
    "best_k = best_row['No.Centros']\n",
    "best_acierto_v = best_row['Aciertos Verifica']\n",
    "\n",
    "print(f\"La mayor tasa de acierto de verificación es con {int(best_k)} clusters, siendo de: {best_acierto_v}\")\n"
   ]
  },
  {
   "cell_type": "markdown",
   "id": "0a75ad02",
   "metadata": {},
   "source": [
    "# Entrenamiento SVM\n"
   ]
  },
  {
   "cell_type": "code",
   "execution_count": 38,
   "id": "42403fdb",
   "metadata": {},
   "outputs": [],
   "source": [
    "from scipy.spatial.distance import cdist"
   ]
  },
  {
   "cell_type": "code",
   "execution_count": 39,
   "id": "1d3525f2",
   "metadata": {},
   "outputs": [
    {
     "data": {
      "text/plain": [
       "(569, 27)"
      ]
     },
     "execution_count": 39,
     "metadata": {},
     "output_type": "execute_result"
    }
   ],
   "source": [
    "kmedias = KMeans(n_clusters=int(best_k))\n",
    "kmedias.fit(X)\n",
    "centros = kmedias.cluster_centers_\n",
    "distancias = euclidean_distances(centros)\n",
    "sigma = np.sum(distancias, axis=0)/(centros.shape[0]-1)\n",
    "X_svm = np.exp(-cdist(X, kmedias.cluster_centers_)**2/(2*sigma**2))\n",
    "X_svm.shape"
   ]
  },
  {
   "cell_type": "code",
   "execution_count": 40,
   "id": "6870a117",
   "metadata": {},
   "outputs": [
    {
     "name": "stdout",
     "output_type": "stream",
     "text": [
      "Grado: 1 \t 0.9666040100250626\n",
      "Grado: 2 \t 0.9666040100250625\n",
      "Grado: 3 \t 0.9718671679197994\n",
      "Grado: 4 \t 0.9718984962406015\n",
      "Grado: 5 \t 0.9595864661654134\n"
     ]
    }
   ],
   "source": [
    "aciertos_svm_grado = pd.DataFrame(columns=['Grado','Aciertos'])\n",
    "for k, g in enumerate(range(1,6)):\n",
    "    aciertos_svm = []\n",
    "    for train_index, test_index in skf.split(X_svm, y):\n",
    "        svm = SVC(kernel='poly', degree = g, verbose=False)\n",
    "        svm.fit(X_svm[train_index], y[train_index])\n",
    "        aciertos_svm.append(svm.score(X_svm[test_index], y[test_index]))\n",
    "    aciertos = np.mean(np.array(aciertos_svm))\n",
    "    print(\"Grado:\", g, \"\\t\", aciertos)\n",
    "    aciertos_svm_grado.loc[k] = [g, aciertos]"
   ]
  },
  {
   "cell_type": "code",
   "execution_count": 41,
   "id": "535069f7",
   "metadata": {},
   "outputs": [
    {
     "data": {
      "text/html": [
       "<div>\n",
       "<style scoped>\n",
       "    .dataframe tbody tr th:only-of-type {\n",
       "        vertical-align: middle;\n",
       "    }\n",
       "\n",
       "    .dataframe tbody tr th {\n",
       "        vertical-align: top;\n",
       "    }\n",
       "\n",
       "    .dataframe thead th {\n",
       "        text-align: right;\n",
       "    }\n",
       "</style>\n",
       "<table border=\"1\" class=\"dataframe\">\n",
       "  <thead>\n",
       "    <tr style=\"text-align: right;\">\n",
       "      <th></th>\n",
       "      <th>Grado</th>\n",
       "      <th>Aciertos</th>\n",
       "    </tr>\n",
       "  </thead>\n",
       "  <tbody>\n",
       "    <tr>\n",
       "      <th>0</th>\n",
       "      <td>1.0</td>\n",
       "      <td>0.966604</td>\n",
       "    </tr>\n",
       "    <tr>\n",
       "      <th>1</th>\n",
       "      <td>2.0</td>\n",
       "      <td>0.966604</td>\n",
       "    </tr>\n",
       "    <tr>\n",
       "      <th>2</th>\n",
       "      <td>3.0</td>\n",
       "      <td>0.971867</td>\n",
       "    </tr>\n",
       "    <tr>\n",
       "      <th>3</th>\n",
       "      <td>4.0</td>\n",
       "      <td>0.971898</td>\n",
       "    </tr>\n",
       "    <tr>\n",
       "      <th>4</th>\n",
       "      <td>5.0</td>\n",
       "      <td>0.959586</td>\n",
       "    </tr>\n",
       "  </tbody>\n",
       "</table>\n",
       "</div>"
      ],
      "text/plain": [
       "   Grado  Aciertos\n",
       "0    1.0  0.966604\n",
       "1    2.0  0.966604\n",
       "2    3.0  0.971867\n",
       "3    4.0  0.971898\n",
       "4    5.0  0.959586"
      ]
     },
     "execution_count": 41,
     "metadata": {},
     "output_type": "execute_result"
    }
   ],
   "source": [
    "aciertos_svm_grado"
   ]
  },
  {
   "cell_type": "code",
   "execution_count": 42,
   "id": "4ada476e",
   "metadata": {},
   "outputs": [
    {
     "name": "stdout",
     "output_type": "stream",
     "text": [
      "La mayor tasa de aciertos es con un kernel polinómico de grado: 4 y su valor es: 0.9718984962406015\n"
     ]
    }
   ],
   "source": [
    "# Find the row with the highest verification accuracy\n",
    "best_row = aciertos_svm_grado.loc[aciertos_svm_grado['Aciertos'].idxmax()]\n",
    "\n",
    "# Get the number of centers for that row\n",
    "best_grado = best_row['Grado']\n",
    "best_acierto = best_row['Aciertos']\n",
    "\n",
    "print(f\"La mayor tasa de aciertos es con un kernel polinómico de grado: {int(best_grado)} y su valor es: {best_acierto}\")\n"
   ]
  },
  {
   "cell_type": "code",
   "execution_count": null,
   "id": "e87bd4f4",
   "metadata": {},
   "outputs": [],
   "source": [
    "kmedias=KMeans(n_clusters=5)\n",
    "kmedias.fit(x)\n",
    "centros=kmedias.cluster_centers_\n",
    "distancia=euclidean_distances(centros)\n",
    "\n",
    "sigma=np.sum(distancia,axis=0)/(centros.shape[0]-1)\n",
    "X_svm= np.exp(-cdist(x, centros)**2/(2*sigma**2))\n"
   ]
  },
  {
   "cell_type": "code",
   "execution_count": null,
   "id": "9ce274c1",
   "metadata": {},
   "outputs": [],
   "source": [
    "svm=SVC(kernel='poly',degree=g)"
   ]
  },
  {
   "cell_type": "code",
   "execution_count": null,
   "id": "0a5131fd",
   "metadata": {},
   "outputs": [],
   "source": []
  },
  {
   "cell_type": "code",
   "execution_count": null,
   "id": "8160a7cc",
   "metadata": {},
   "outputs": [],
   "source": []
  },
  {
   "cell_type": "code",
   "execution_count": null,
   "id": "c6303b31",
   "metadata": {},
   "outputs": [],
   "source": []
  },
  {
   "cell_type": "code",
   "execution_count": null,
   "id": "a56f8964",
   "metadata": {},
   "outputs": [],
   "source": []
  },
  {
   "cell_type": "code",
   "execution_count": null,
   "id": "10a0d5d6",
   "metadata": {},
   "outputs": [],
   "source": []
  }
 ],
 "metadata": {
  "kernelspec": {
   "display_name": "Python 3 (ipykernel)",
   "language": "python",
   "name": "python3"
  },
  "language_info": {
   "codemirror_mode": {
    "name": "ipython",
    "version": 3
   },
   "file_extension": ".py",
   "mimetype": "text/x-python",
   "name": "python",
   "nbconvert_exporter": "python",
   "pygments_lexer": "ipython3",
   "version": "3.9.13"
  }
 },
 "nbformat": 4,
 "nbformat_minor": 5
}
